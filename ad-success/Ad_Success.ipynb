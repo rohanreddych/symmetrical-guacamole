{
  "nbformat": 4,
  "nbformat_minor": 0,
  "metadata": {
    "kernelspec": {
      "name": "python3",
      "display_name": "Python 3"
    },
    "language_info": {
      "codemirror_mode": {
        "name": "ipython",
        "version": 3
      },
      "file_extension": ".py",
      "mimetype": "text/x-python",
      "name": "python",
      "nbconvert_exporter": "python",
      "pygments_lexer": "ipython3",
      "version": "3.6.9"
    },
    "colab": {
      "name": "Ad-Success.ipynb",
      "provenance": [],
      "collapsed_sections": [],
      "include_colab_link": true
    },
    "accelerator": "GPU"
  },
  "cells": [
    {
      "cell_type": "markdown",
      "metadata": {
        "id": "view-in-github",
        "colab_type": "text"
      },
      "source": [
        "<a href=\"https://colab.research.google.com/github/rohanreddych/symmetrical-guacamole/blob/master/ad-success/Ad_Success.ipynb\" target=\"_parent\"><img src=\"https://colab.research.google.com/assets/colab-badge.svg\" alt=\"Open In Colab\"/></a>"
      ]
    },
    {
      "cell_type": "code",
      "metadata": {
        "id": "hVfabRGZJvCN",
        "colab_type": "code",
        "colab": {
          "base_uri": "https://localhost:8080/",
          "height": 36
        },
        "outputId": "f19fb593-342f-4d00-e93c-7d072dc1141a"
      },
      "source": [
        "import pandas as pd\n",
        "#import sklearn\n",
        "import seaborn as sns\n",
        "import matplotlib.pyplot as plt\n",
        "from sklearn.model_selection import train_test_split\n",
        "%tensorflow_version 2.x"
      ],
      "execution_count": 1,
      "outputs": [
        {
          "output_type": "stream",
          "text": [
            "TensorFlow 2.x selected.\n"
          ],
          "name": "stdout"
        }
      ]
    },
    {
      "cell_type": "code",
      "metadata": {
        "id": "88x4ruYhJ50z",
        "colab_type": "code",
        "outputId": "f95e2f82-b257-4ca7-b50f-29d90c18f214",
        "colab": {
          "base_uri": "https://localhost:8080/",
          "height": 134
        }
      },
      "source": [
        "from google.colab import drive\n",
        "drive.mount('/content/gdrive')\n"
      ],
      "execution_count": 2,
      "outputs": [
        {
          "output_type": "stream",
          "text": [
            "Go to this URL in a browser: https://accounts.google.com/o/oauth2/auth?client_id=947318989803-6bn6qk8qdgf4n4g3pfee6491hc0brc4i.apps.googleusercontent.com&redirect_uri=urn%3aietf%3awg%3aoauth%3a2.0%3aoob&response_type=code&scope=email%20https%3a%2f%2fwww.googleapis.com%2fauth%2fdocs.test%20https%3a%2f%2fwww.googleapis.com%2fauth%2fdrive%20https%3a%2f%2fwww.googleapis.com%2fauth%2fdrive.photos.readonly%20https%3a%2f%2fwww.googleapis.com%2fauth%2fpeopleapi.readonly\n",
            "\n",
            "Enter your authorization code:\n",
            "··········\n",
            "Mounted at /content/gdrive\n"
          ],
          "name": "stdout"
        }
      ]
    },
    {
      "cell_type": "code",
      "metadata": {
        "id": "eKWzeuI3JvCf",
        "colab_type": "code",
        "colab": {}
      },
      "source": [
        "train = pd.read_csv(\"gdrive/My Drive/Dataset/Train.csv\")\n",
        "test = pd.read_csv(\"gdrive/My Drive/Dataset/Test.csv\")"
      ],
      "execution_count": 0,
      "outputs": []
    },
    {
      "cell_type": "code",
      "metadata": {
        "id": "AyKFEUB-JvCs",
        "colab_type": "code",
        "colab": {}
      },
      "source": [
        "s = (train.dtypes ==\"object\")\n",
        "categorical_columns = list(s[s].index)"
      ],
      "execution_count": 0,
      "outputs": []
    },
    {
      "cell_type": "code",
      "metadata": {
        "id": "hGsVUzPwJvC3",
        "colab_type": "code",
        "colab": {}
      },
      "source": [
        "#label encoding\n",
        "from sklearn.preprocessing import LabelEncoder\n",
        "le = LabelEncoder()\n",
        "for c in categorical_columns:\n",
        "    train[c] = le.fit_transform(train[c])\n",
        "    test[c] = le.fit_transform(test[c])\n",
        "    "
      ],
      "execution_count": 0,
      "outputs": []
    },
    {
      "cell_type": "code",
      "metadata": {
        "id": "x14FtLaCJvDE",
        "colab_type": "code",
        "colab": {}
      },
      "source": [
        "#minmax scaler\n",
        "from sklearn.preprocessing import MinMaxScaler\n",
        "mm = MinMaxScaler()\n",
        "train[\"average_runtime(minutes_per_week)\"] = mm.fit_transform(train[[\"average_runtime(minutes_per_week)\"]])\n",
        "test[\"average_runtime(minutes_per_week)\"] = mm.fit_transform(test[[\"average_runtime(minutes_per_week)\"]])"
      ],
      "execution_count": 0,
      "outputs": []
    },
    {
      "cell_type": "code",
      "metadata": {
        "id": "kBl5jXPlJvDQ",
        "colab_type": "code",
        "colab": {}
      },
      "source": [
        "#test train split\n",
        "test_ids = test[\"id\"]\n",
        "test = test.drop([\"id\"], axis = 1)\n",
        "X = train.drop([\"id\", \"netgain\"], axis=1)\n",
        "y = train[\"netgain\"].astype(int)\n",
        "train_X, val_X, train_y, val_y = train_test_split(X,y, test_size = 0.25)\n"
      ],
      "execution_count": 0,
      "outputs": []
    },
    {
      "cell_type": "code",
      "metadata": {
        "id": "4Jodkw4wJvDb",
        "colab_type": "code",
        "colab": {}
      },
      "source": [
        "#defining the model\n",
        "from sklearn.linear_model import LogisticRegression\n",
        "from sklearn.model_selection import GridSearchCV, StratifiedShuffleSplit\n",
        "cv = StratifiedShuffleSplit(n_splits=10, test_size=.20)\n",
        "C_vals = [0.2,0.3,0.4,0.5,0.6,0.7,0.8,0.9,1,2,3,4,5,6,7,8,9,10,12,13,14,15,16,16.5,17,17.5,18]\n",
        "penalties = [\"l1\", \"l2\"]\n",
        "params = {'penalty':penalties, \"C\":C_vals}\n",
        "grid = GridSearchCV(estimator=LogisticRegression(solver=\"liblinear\"), n_jobs=-1, scoring=\"accuracy\", param_grid=params)"
      ],
      "execution_count": 0,
      "outputs": []
    },
    {
      "cell_type": "code",
      "metadata": {
        "id": "iOzeMTnfJvDn",
        "colab_type": "code",
        "outputId": "1f0e7659-7bfd-445f-d6c8-ad864cca05ea",
        "colab": {
          "base_uri": "https://localhost:8080/",
          "height": 388
        }
      },
      "source": [
        "grid.fit(train_X, train_y)"
      ],
      "execution_count": 9,
      "outputs": [
        {
          "output_type": "stream",
          "text": [
            "/usr/local/lib/python3.6/dist-packages/sklearn/model_selection/_split.py:1978: FutureWarning: The default value of cv will change from 3 to 5 in version 0.22. Specify it explicitly to silence this warning.\n",
            "  warnings.warn(CV_WARNING, FutureWarning)\n"
          ],
          "name": "stderr"
        },
        {
          "output_type": "execute_result",
          "data": {
            "text/plain": [
              "GridSearchCV(cv='warn', error_score='raise-deprecating',\n",
              "             estimator=LogisticRegression(C=1.0, class_weight=None, dual=False,\n",
              "                                          fit_intercept=True,\n",
              "                                          intercept_scaling=1, l1_ratio=None,\n",
              "                                          max_iter=100, multi_class='warn',\n",
              "                                          n_jobs=None, penalty='l2',\n",
              "                                          random_state=None, solver='liblinear',\n",
              "                                          tol=0.0001, verbose=0,\n",
              "                                          warm_start=False),\n",
              "             iid='warn', n_jobs=-1,\n",
              "             param_grid={'C': [0.2, 0.3, 0.4, 0.5, 0.6, 0.7, 0.8, 0.9, 1, 2, 3,\n",
              "                               4, 5, 6, 7, 8, 9, 10, 12, 13, 14, 15, 16, 16.5,\n",
              "                               17, 17.5, 18],\n",
              "                         'penalty': ['l1', 'l2']},\n",
              "             pre_dispatch='2*n_jobs', refit=True, return_train_score=False,\n",
              "             scoring='accuracy', verbose=0)"
            ]
          },
          "metadata": {
            "tags": []
          },
          "execution_count": 9
        }
      ]
    },
    {
      "cell_type": "code",
      "metadata": {
        "id": "jwcLwDvcJvD1",
        "colab_type": "code",
        "colab": {}
      },
      "source": [
        "logreg_grid = grid.best_estimator_"
      ],
      "execution_count": 0,
      "outputs": []
    },
    {
      "cell_type": "code",
      "metadata": {
        "id": "9dohun0pJvED",
        "colab_type": "code",
        "outputId": "1b35407c-b0b7-404f-8c1a-a8931f71ea76",
        "colab": {
          "base_uri": "https://localhost:8080/",
          "height": 36
        }
      },
      "source": [
        "logreg_grid.score(X,y)"
      ],
      "execution_count": 11,
      "outputs": [
        {
          "output_type": "execute_result",
          "data": {
            "text/plain": [
              "0.796875"
            ]
          },
          "metadata": {
            "tags": []
          },
          "execution_count": 11
        }
      ]
    },
    {
      "cell_type": "markdown",
      "metadata": {
        "id": "58atGR5TJvE6",
        "colab_type": "text"
      },
      "source": [
        "    For Different Algorithms\n",
        "   "
      ]
    },
    {
      "cell_type": "code",
      "metadata": {
        "id": "elzS3kbXJvE-",
        "colab_type": "code",
        "colab": {}
      },
      "source": [
        "#KNN\n",
        "from sklearn.neighbors import KNeighborsClassifier\n",
        "k_range = (1,31)\n",
        "weights_options = [\"uniform\", \"distance\"]\n",
        "cv = StratifiedShuffleSplit(n_splits=15, random_state=96, test_size=0.3)\n",
        "params = {\"n_neighbors\":k_range, \"weights\":weights_options}\n",
        "grid_knn = GridSearchCV(estimator=KNeighborsClassifier(), param_grid=params, cv=cv, n_jobs=-1)"
      ],
      "execution_count": 0,
      "outputs": []
    },
    {
      "cell_type": "code",
      "metadata": {
        "id": "OoMA2uvtJvFR",
        "colab_type": "code",
        "colab": {
          "base_uri": "https://localhost:8080/",
          "height": 270
        },
        "outputId": "34510ca5-012d-486a-b86b-6e28e83f47f7"
      },
      "source": [
        "grid_knn.fit(X,y)"
      ],
      "execution_count": 13,
      "outputs": [
        {
          "output_type": "execute_result",
          "data": {
            "text/plain": [
              "GridSearchCV(cv=StratifiedShuffleSplit(n_splits=15, random_state=96, test_size=0.3,\n",
              "            train_size=None),\n",
              "             error_score='raise-deprecating',\n",
              "             estimator=KNeighborsClassifier(algorithm='auto', leaf_size=30,\n",
              "                                            metric='minkowski',\n",
              "                                            metric_params=None, n_jobs=None,\n",
              "                                            n_neighbors=5, p=2,\n",
              "                                            weights='uniform'),\n",
              "             iid='warn', n_jobs=-1,\n",
              "             param_grid={'n_neighbors': (1, 31),\n",
              "                         'weights': ['uniform', 'distance']},\n",
              "             pre_dispatch='2*n_jobs', refit=True, return_train_score=False,\n",
              "             scoring=None, verbose=0)"
            ]
          },
          "metadata": {
            "tags": []
          },
          "execution_count": 13
        }
      ]
    },
    {
      "cell_type": "code",
      "metadata": {
        "id": "XnYhhQq4JvFd",
        "colab_type": "code",
        "colab": {}
      },
      "source": [
        "grid_knn.best_estimator_.score(X,y)\n",
        "knn_grid = grid_knn.best_estimator_"
      ],
      "execution_count": 0,
      "outputs": []
    },
    {
      "cell_type": "code",
      "metadata": {
        "id": "xzEWJ0G-JvGS",
        "colab_type": "code",
        "outputId": "e0a8220d-2b76-4bed-e822-d3d21d39dfbf",
        "colab": {
          "base_uri": "https://localhost:8080/",
          "height": 36
        }
      },
      "source": [
        "#GaussianNB\n",
        "from sklearn.naive_bayes import GaussianNB\n",
        "from sklearn.metrics import accuracy_score\n",
        "gaussian = GaussianNB()\n",
        "gaussian.fit(X,y)\n",
        "y_pred_gn = gaussian.predict(val_X)\n",
        "print(accuracy_score(y_pred_gn, val_y))"
      ],
      "execution_count": 15,
      "outputs": [
        {
          "output_type": "stream",
          "text": [
            "0.8072788697788698\n"
          ],
          "name": "stdout"
        }
      ]
    },
    {
      "cell_type": "code",
      "metadata": {
        "id": "upzHht_rJvHh",
        "colab_type": "code",
        "colab": {}
      },
      "source": [
        "#DecisionTree\n",
        "from sklearn.tree import DecisionTreeClassifier\n",
        "max_depth = range(1, 31)\n",
        "max_feature = [\"auto\"]\n",
        "criterion = [\"entropy\", \"gini\"]\n",
        "param = {\"max_depth\":max_depth, \"max_features\":[\"auto\"], \"criterion\":criterion}\n",
        "\n",
        "dec_grid = GridSearchCV(estimator = DecisionTreeClassifier(), param_grid = param, cv = StratifiedShuffleSplit(n_splits=10, random_state=42), n_jobs=-1)\n"
      ],
      "execution_count": 0,
      "outputs": []
    },
    {
      "cell_type": "code",
      "metadata": {
        "id": "uOPttxhpVNhC",
        "colab_type": "code",
        "colab": {
          "base_uri": "https://localhost:8080/",
          "height": 387
        },
        "outputId": "5ce7be41-528b-4406-bea9-1e701779096f"
      },
      "source": [
        "dec_grid.fit(X,y)"
      ],
      "execution_count": 19,
      "outputs": [
        {
          "output_type": "execute_result",
          "data": {
            "text/plain": [
              "GridSearchCV(cv=StratifiedShuffleSplit(n_splits=10, random_state=42, test_size=None,\n",
              "            train_size=None),\n",
              "             error_score='raise-deprecating',\n",
              "             estimator=DecisionTreeClassifier(class_weight=None,\n",
              "                                              criterion='gini', max_depth=None,\n",
              "                                              max_features=None,\n",
              "                                              max_leaf_nodes=None,\n",
              "                                              min_impurity_decrease=0.0,\n",
              "                                              min_impurity_split=None,\n",
              "                                              min_samples_leaf=1,\n",
              "                                              min_samples_split=2,\n",
              "                                              min_weight_fraction_leaf=0.0,\n",
              "                                              presort=False, random_state=None,\n",
              "                                              splitter='best'),\n",
              "             iid='warn', n_jobs=-1,\n",
              "             param_grid={'criterion': ['entropy', 'gini'],\n",
              "                         'max_depth': range(1, 31), 'max_features': ['auto']},\n",
              "             pre_dispatch='2*n_jobs', refit=True, return_train_score=False,\n",
              "             scoring=None, verbose=0)"
            ]
          },
          "metadata": {
            "tags": []
          },
          "execution_count": 19
        }
      ]
    },
    {
      "cell_type": "code",
      "metadata": {
        "id": "sFZRZ1_u6lCP",
        "colab_type": "code",
        "colab": {
          "base_uri": "https://localhost:8080/",
          "height": 36
        },
        "outputId": "8657bfd2-13d3-480e-9a30-1dc7297b230f"
      },
      "source": [
        "dec_tree_grid = dec_grid.best_estimator_\n",
        "dec_tree_grid.score(X,y)"
      ],
      "execution_count": 70,
      "outputs": [
        {
          "output_type": "execute_result",
          "data": {
            "text/plain": [
              "0.8197558353808354"
            ]
          },
          "metadata": {
            "tags": []
          },
          "execution_count": 70
        }
      ]
    },
    {
      "cell_type": "code",
      "metadata": {
        "id": "M-SXAsl47YRD",
        "colab_type": "code",
        "colab": {
          "base_uri": "https://localhost:8080/",
          "height": 36
        },
        "outputId": "930e29b4-7d33-4cb7-d0ae-f12899ee5c86"
      },
      "source": [
        "#Random Forest\n",
        "from sklearn.ensemble import RandomForestClassifier\n",
        "n_estimators = [70,80,150,160, 170,175,180,185];\n",
        "max_depth = range(1,10);\n",
        "criterions = ['gini', 'entropy'];\n",
        "cv = StratifiedShuffleSplit(n_splits=10, test_size=.30, random_state=15)\n",
        "\n",
        "\n",
        "parameters = {'n_estimators':n_estimators,\n",
        "              'max_depth':max_depth,\n",
        "              'criterion': criterions\n",
        "              \n",
        "        }\n",
        "grid = GridSearchCV(estimator=RandomForestClassifier(max_features='auto'),\n",
        "                                 param_grid=parameters,\n",
        "                                 cv=cv,\n",
        "                                 n_jobs = -1)\n",
        "grid.fit(X,y) \n",
        "rf_grid = grid.best_estimator_\n",
        "rf_grid.score(X,y)"
      ],
      "execution_count": 73,
      "outputs": [
        {
          "output_type": "execute_result",
          "data": {
            "text/plain": [
              "0.8229422604422605"
            ]
          },
          "metadata": {
            "tags": []
          },
          "execution_count": 73
        }
      ]
    },
    {
      "cell_type": "code",
      "metadata": {
        "id": "u8BFqVs3EkzH",
        "colab_type": "code",
        "colab": {
          "base_uri": "https://localhost:8080/",
          "height": 36
        },
        "outputId": "440f3403-33f0-40bc-ac7f-448bd36e087f"
      },
      "source": [
        "#Bagging\n",
        "from sklearn.ensemble import BaggingClassifier\n",
        "#n_estimators = [10,30,50,70,80,150,160, 170,175,180,185];\n",
        "cv = StratifiedShuffleSplit(n_splits=10, test_size=.30, random_state=15)\n",
        "\n",
        "parameters = {'n_estimators':[10, 30, 50, 70, 90]}\n",
        "grid = GridSearchCV(BaggingClassifier(base_estimator= None, ## If None, then the base estimator is a decision tree.\n",
        "                                      bootstrap_features=False),\n",
        "                                 param_grid=parameters,\n",
        "                                 cv=cv,\n",
        "                                 n_jobs = -1)\n",
        "grid.fit(X,y) \n",
        "bagging_grid = grid.best_estimator_\n",
        "bagging_grid.score(X,y)"
      ],
      "execution_count": 42,
      "outputs": [
        {
          "output_type": "execute_result",
          "data": {
            "text/plain": [
              "0.8591062653562653"
            ]
          },
          "metadata": {
            "tags": []
          },
          "execution_count": 42
        }
      ]
    },
    {
      "cell_type": "code",
      "metadata": {
        "id": "87cGKDooJYRC",
        "colab_type": "code",
        "colab": {
          "base_uri": "https://localhost:8080/",
          "height": 36
        },
        "outputId": "65bdf94f-9e14-4b15-9ccb-1d6e4ecd4bf8"
      },
      "source": [
        "#Adaboost\n",
        "from sklearn.ensemble import AdaBoostClassifier\n",
        "n_estimators = [100,140,145,150,160, 170,175,180,185];\n",
        "cv = StratifiedShuffleSplit(n_splits=10, test_size=.30, random_state=15)\n",
        "learning_r = [0.1,1,0.01,0.5]\n",
        "\n",
        "parameters = {'n_estimators':n_estimators,\n",
        "              'learning_rate':learning_r\n",
        "              \n",
        "        }\n",
        "grid = GridSearchCV(AdaBoostClassifier(base_estimator= None, ## If None, then the base estimator is a decision tree.\n",
        "                                     ),\n",
        "                                 param_grid=parameters,\n",
        "                                 cv=cv,\n",
        "                                 n_jobs = -1)\n",
        "grid.fit(X,y) \n",
        "adaBoost_grid = grid.best_estimator_\n",
        "adaBoost_grid.score(X,y)"
      ],
      "execution_count": 44,
      "outputs": [
        {
          "output_type": "execute_result",
          "data": {
            "text/plain": [
              "0.8184121621621622"
            ]
          },
          "metadata": {
            "tags": []
          },
          "execution_count": 44
        }
      ]
    },
    {
      "cell_type": "code",
      "metadata": {
        "id": "LbYokZPMMUHF",
        "colab_type": "code",
        "colab": {
          "base_uri": "https://localhost:8080/",
          "height": 36
        },
        "outputId": "47930fdb-dfd9-4da7-f3d0-1d6d46706ca0"
      },
      "source": [
        "#gradient boosting\n",
        "from sklearn.ensemble import GradientBoostingClassifier\n",
        "\n",
        "gradient_boost = GradientBoostingClassifier()\n",
        "gradient_boost.fit(train_X, train_y)\n",
        "y_pred = gradient_boost.predict(val_X)\n",
        "gradient_accy = round(accuracy_score(y_pred, val_y), 3)\n",
        "print(gradient_accy)"
      ],
      "execution_count": 52,
      "outputs": [
        {
          "output_type": "stream",
          "text": [
            "0.819\n"
          ],
          "name": "stdout"
        }
      ]
    },
    {
      "cell_type": "code",
      "metadata": {
        "id": "xAIlP26JNiaH",
        "colab_type": "code",
        "colab": {
          "base_uri": "https://localhost:8080/",
          "height": 95
        },
        "outputId": "bf83b2d3-3386-42a6-a5a4-609e7937947d"
      },
      "source": [
        "#Extra tree classifier\n",
        "from sklearn.ensemble import ExtraTreesClassifier\n",
        "ExtraTreesClassifier = ExtraTreesClassifier()\n",
        "ExtraTreesClassifier.fit(X, y)\n",
        "y_pred = ExtraTreesClassifier.predict(val_X)\n",
        "extraTree_accy = round(accuracy_score(y_pred, val_y), 3)\n",
        "print(extraTree_accy)"
      ],
      "execution_count": 53,
      "outputs": [
        {
          "output_type": "stream",
          "text": [
            "0.854\n"
          ],
          "name": "stdout"
        },
        {
          "output_type": "stream",
          "text": [
            "/usr/local/lib/python3.6/dist-packages/sklearn/ensemble/forest.py:245: FutureWarning: The default value of n_estimators will change from 10 in version 0.20 to 100 in 0.22.\n",
            "  \"10 in version 0.20 to 100 in 0.22.\", FutureWarning)\n"
          ],
          "name": "stderr"
        }
      ]
    },
    {
      "cell_type": "code",
      "metadata": {
        "id": "nu8FDN6hPyqu",
        "colab_type": "code",
        "colab": {}
      },
      "source": [
        "#XGboost\n",
        "from xgboost import XGBRFClassifier\n",
        "from xgboost import XGBClassifier\n",
        "pars = {\"max_depth\":range(1, 10), \"n_estimators\":[50, 70, 100], \"learning_rate\":[0.01, 0.1, 0.5, 1], }\n",
        "xgb_grid = GridSearchCV(estimator=XGBClassifier(booster=\"gbtree\", random_state=42), param_grid = pars, n_jobs=-1, cv=StratifiedShuffleSplit(n_splits=11, test_size=0.2))\n",
        "xgbrf_grd = GridSearchCV(estimator=XGBRFClassifier(random_state=69), param_grid=pars, n_jobs=-1)"
      ],
      "execution_count": 0,
      "outputs": []
    },
    {
      "cell_type": "code",
      "metadata": {
        "id": "h0y-NHDTSkd_",
        "colab_type": "code",
        "colab": {
          "base_uri": "https://localhost:8080/",
          "height": 387
        },
        "outputId": "ef2b5190-7981-478d-c896-59581b379b4f"
      },
      "source": [
        "xgb_grid.fit(X,y)"
      ],
      "execution_count": 118,
      "outputs": [
        {
          "output_type": "execute_result",
          "data": {
            "text/plain": [
              "GridSearchCV(cv=StratifiedShuffleSplit(n_splits=11, random_state=None, test_size=0.2,\n",
              "            train_size=None),\n",
              "             error_score='raise-deprecating',\n",
              "             estimator=XGBClassifier(base_score=0.5, booster='gbtree',\n",
              "                                     colsample_bylevel=1, colsample_bynode=1,\n",
              "                                     colsample_bytree=1, gamma=0,\n",
              "                                     learning_rate=0.1, max_delta_step=0,\n",
              "                                     max_depth=3, min_child_weight=1,\n",
              "                                     missing=None, n_estimators=100,...,\n",
              "                                     nthread=None, objective='binary:logistic',\n",
              "                                     random_state=42, reg_alpha=0, reg_lambda=1,\n",
              "                                     scale_pos_weight=1, seed=None, silent=None,\n",
              "                                     subsample=1, verbosity=1),\n",
              "             iid='warn', n_jobs=-1,\n",
              "             param_grid={'learning_rate': [0.01, 0.1, 0.5, 1],\n",
              "                         'max_depth': range(1, 10),\n",
              "                         'n_estimators': [50, 70, 100]},\n",
              "             pre_dispatch='2*n_jobs', refit=True, return_train_score=False,\n",
              "             scoring=None, verbose=0)"
            ]
          },
          "metadata": {
            "tags": []
          },
          "execution_count": 118
        }
      ]
    },
    {
      "cell_type": "code",
      "metadata": {
        "id": "s59A9e_XUSjI",
        "colab_type": "code",
        "colab": {
          "base_uri": "https://localhost:8080/",
          "height": 36
        },
        "outputId": "6bd69823-cf3a-45ba-b7c7-8e6714315559"
      },
      "source": [
        "y_pred = xgb_grid.predict(val_X)\n",
        "XGBC = xgb_grid.best_estimator_\n",
        "print(accuracy_score(y_pred, val_y))"
      ],
      "execution_count": 119,
      "outputs": [
        {
          "output_type": "stream",
          "text": [
            "0.8157248157248157\n"
          ],
          "name": "stdout"
        }
      ]
    },
    {
      "cell_type": "code",
      "metadata": {
        "id": "6Gna8SLImEFD",
        "colab_type": "code",
        "colab": {
          "base_uri": "https://localhost:8080/",
          "height": 427
        },
        "outputId": "dbfe6627-6137-4fcd-8792-60efb0e07bef"
      },
      "source": [
        "xgbrf_grd.fit(X,y)"
      ],
      "execution_count": 113,
      "outputs": [
        {
          "output_type": "stream",
          "text": [
            "/usr/local/lib/python3.6/dist-packages/sklearn/model_selection/_split.py:1978: FutureWarning: The default value of cv will change from 3 to 5 in version 0.22. Specify it explicitly to silence this warning.\n",
            "  warnings.warn(CV_WARNING, FutureWarning)\n"
          ],
          "name": "stderr"
        },
        {
          "output_type": "execute_result",
          "data": {
            "text/plain": [
              "GridSearchCV(cv='warn', error_score='raise-deprecating',\n",
              "             estimator=XGBRFClassifier(base_score=0.5, colsample_bylevel=1,\n",
              "                                       colsample_bynode=0.8, colsample_bytree=1,\n",
              "                                       gamma=0, learning_rate=1,\n",
              "                                       max_delta_step=0, max_depth=3,\n",
              "                                       min_child_weight=1, missing=None,\n",
              "                                       n_estimators=100, n_jobs=1, nthread=None,\n",
              "                                       objective='binary:logistic',\n",
              "                                       random_state=69, reg_alpha=0,\n",
              "                                       reg_lambda=1, scale_pos_weight=1,\n",
              "                                       seed=None, silent=None, subsample=0.8,\n",
              "                                       verbosity=1),\n",
              "             iid='warn', n_jobs=-1,\n",
              "             param_grid={'learning_rate': [0.01, 0.1, 0.5, 1],\n",
              "                         'max_depth': range(1, 10),\n",
              "                         'n_estimators': [50, 70, 100]},\n",
              "             pre_dispatch='2*n_jobs', refit=True, return_train_score=False,\n",
              "             scoring=None, verbose=0)"
            ]
          },
          "metadata": {
            "tags": []
          },
          "execution_count": 113
        }
      ]
    },
    {
      "cell_type": "code",
      "metadata": {
        "id": "49usM6gtNr9q",
        "colab_type": "code",
        "colab": {
          "base_uri": "https://localhost:8080/",
          "height": 36
        },
        "outputId": "dc28f415-358a-4021-b847-3d1ca90f96b7"
      },
      "source": [
        "#Voting Finally\n",
        "from sklearn.ensemble import VotingClassifier\n",
        "\n",
        "voting_classifier = VotingClassifier(estimators=[\n",
        "    ('lr_grid', logreg_grid),\n",
        "    #('svc', svm_grid),\n",
        "    ('random_forest', rf_grid),\n",
        "    ('gradient_boosting', gradient_boost),\n",
        "    ('decision_tree_grid',dec_tree_grid),\n",
        "    ('knn_classifier', knn_grid),\n",
        "    ('XGB_Classifier', XGBC),\n",
        "    ('bagging_classifier', bagging_grid),\n",
        "    ('adaBoost_classifier',adaBoost_grid),\n",
        "    ('ExtraTrees_Classifier', ExtraTreesClassifier),\n",
        "    ('gaussian_classifier',gaussian),\n",
        "    #('gaussian_process_classifier', GaussianProcessClassifier)\n",
        "],voting='hard')\n",
        "\n",
        "\n",
        "voting_classifier = voting_classifier.fit(X,y)\n",
        "\n",
        "y_pred = voting_classifier.predict(val_X)\n",
        "voting_accy = accuracy_score(y_pred, val_y)\n",
        "print(voting_accy)"
      ],
      "execution_count": 78,
      "outputs": [
        {
          "output_type": "stream",
          "text": [
            "0.8278562653562653\n"
          ],
          "name": "stdout"
        }
      ]
    },
    {
      "cell_type": "code",
      "metadata": {
        "id": "qI8cJ1l3PeoD",
        "colab_type": "code",
        "colab": {}
      },
      "source": [
        "sub_pred1 = xgbrf_grd.best_estimator_.predict(test)"
      ],
      "execution_count": 0,
      "outputs": []
    },
    {
      "cell_type": "code",
      "metadata": {
        "id": "Eid6e6VTdtDK",
        "colab_type": "code",
        "colab": {}
      },
      "source": [
        "subm = pd.DataFrame({\"id\":test_ids, \"netgain\":sub_pred1.astype(bool)})\n",
        "subm.to_csv(\"x2_sub.csv\", index=False)"
      ],
      "execution_count": 0,
      "outputs": []
    },
    {
      "cell_type": "code",
      "metadata": {
        "id": "o-geac1_Ppja",
        "colab_type": "code",
        "colab": {
          "base_uri": "https://localhost:8080/",
          "height": 210
        },
        "outputId": "d209168f-7669-4177-a412-6ac254bf6b24"
      },
      "source": [
        "from tensorflow import feature_column\n",
        "import tensorflow as tf \n",
        "from tensorflow.keras import layers\n",
        "train.head()"
      ],
      "execution_count": 10,
      "outputs": [
        {
          "output_type": "execute_result",
          "data": {
            "text/html": [
              "<div>\n",
              "<style scoped>\n",
              "    .dataframe tbody tr th:only-of-type {\n",
              "        vertical-align: middle;\n",
              "    }\n",
              "\n",
              "    .dataframe tbody tr th {\n",
              "        vertical-align: top;\n",
              "    }\n",
              "\n",
              "    .dataframe thead th {\n",
              "        text-align: right;\n",
              "    }\n",
              "</style>\n",
              "<table border=\"1\" class=\"dataframe\">\n",
              "  <thead>\n",
              "    <tr style=\"text-align: right;\">\n",
              "      <th></th>\n",
              "      <th>id</th>\n",
              "      <th>realtionship_status</th>\n",
              "      <th>industry</th>\n",
              "      <th>genre</th>\n",
              "      <th>targeted_sex</th>\n",
              "      <th>average_runtime(minutes_per_week)</th>\n",
              "      <th>airtime</th>\n",
              "      <th>airlocation</th>\n",
              "      <th>ratings</th>\n",
              "      <th>expensive</th>\n",
              "      <th>money_back_guarantee</th>\n",
              "      <th>netgain</th>\n",
              "    </tr>\n",
              "  </thead>\n",
              "  <tbody>\n",
              "    <tr>\n",
              "      <th>0</th>\n",
              "      <td>19717</td>\n",
              "      <td>3</td>\n",
              "      <td>0</td>\n",
              "      <td>0</td>\n",
              "      <td>1</td>\n",
              "      <td>0.448980</td>\n",
              "      <td>2</td>\n",
              "      <td>39</td>\n",
              "      <td>0.027465</td>\n",
              "      <td>0</td>\n",
              "      <td>0</td>\n",
              "      <td>False</td>\n",
              "    </tr>\n",
              "    <tr>\n",
              "      <th>1</th>\n",
              "      <td>31593</td>\n",
              "      <td>2</td>\n",
              "      <td>4</td>\n",
              "      <td>0</td>\n",
              "      <td>1</td>\n",
              "      <td>0.448980</td>\n",
              "      <td>2</td>\n",
              "      <td>39</td>\n",
              "      <td>0.027465</td>\n",
              "      <td>1</td>\n",
              "      <td>0</td>\n",
              "      <td>False</td>\n",
              "    </tr>\n",
              "    <tr>\n",
              "      <th>2</th>\n",
              "      <td>5681</td>\n",
              "      <td>0</td>\n",
              "      <td>2</td>\n",
              "      <td>0</td>\n",
              "      <td>0</td>\n",
              "      <td>0.448980</td>\n",
              "      <td>2</td>\n",
              "      <td>39</td>\n",
              "      <td>0.027465</td>\n",
              "      <td>0</td>\n",
              "      <td>1</td>\n",
              "      <td>False</td>\n",
              "    </tr>\n",
              "    <tr>\n",
              "      <th>3</th>\n",
              "      <td>15491</td>\n",
              "      <td>5</td>\n",
              "      <td>5</td>\n",
              "      <td>3</td>\n",
              "      <td>0</td>\n",
              "      <td>0.397959</td>\n",
              "      <td>2</td>\n",
              "      <td>39</td>\n",
              "      <td>0.027465</td>\n",
              "      <td>1</td>\n",
              "      <td>0</td>\n",
              "      <td>False</td>\n",
              "    </tr>\n",
              "    <tr>\n",
              "      <th>4</th>\n",
              "      <td>23587</td>\n",
              "      <td>2</td>\n",
              "      <td>4</td>\n",
              "      <td>0</td>\n",
              "      <td>1</td>\n",
              "      <td>0.479592</td>\n",
              "      <td>2</td>\n",
              "      <td>39</td>\n",
              "      <td>0.027465</td>\n",
              "      <td>0</td>\n",
              "      <td>0</td>\n",
              "      <td>True</td>\n",
              "    </tr>\n",
              "  </tbody>\n",
              "</table>\n",
              "</div>"
            ],
            "text/plain": [
              "      id  realtionship_status  ...  money_back_guarantee  netgain\n",
              "0  19717                    3  ...                     0    False\n",
              "1  31593                    2  ...                     0    False\n",
              "2   5681                    0  ...                     1    False\n",
              "3  15491                    5  ...                     0    False\n",
              "4  23587                    2  ...                     0     True\n",
              "\n",
              "[5 rows x 12 columns]"
            ]
          },
          "metadata": {
            "tags": []
          },
          "execution_count": 10
        }
      ]
    },
    {
      "cell_type": "code",
      "metadata": {
        "id": "Q0h0xKPSeqQX",
        "colab_type": "code",
        "colab": {}
      },
      "source": [
        "def df_to_dataset(dataframe, shuffle=True, batch_size=32):\n",
        "    df = dataframe.copy()\n",
        "    labels = df.pop(\"netgain\")\n",
        "    ds = tf.data.Dataset.from_tensor_slices((dict(df), labels))\n",
        "    if shuffle:\n",
        "        ds = ds.shuffle(buffer_size = len(df))\n",
        "    ds = ds.batch(batch_size)\n",
        "    return ds"
      ],
      "execution_count": 0,
      "outputs": []
    },
    {
      "cell_type": "code",
      "metadata": {
        "id": "BB-ktUBTe4wi",
        "colab_type": "code",
        "colab": {}
      },
      "source": [
        "train_ds = df_to_dataset(train_X)"
      ],
      "execution_count": 0,
      "outputs": []
    },
    {
      "cell_type": "code",
      "metadata": {
        "id": "KMFNhGRE2m9I",
        "colab_type": "code",
        "colab": {}
      },
      "source": [
        "sample = train_ds.take(1)\n"
      ],
      "execution_count": 0,
      "outputs": []
    },
    {
      "cell_type": "markdown",
      "metadata": {
        "id": "qRFWif7x4alN",
        "colab_type": "text"
      },
      "source": [
        "Switching to new notebook for other algos\n"
      ]
    },
    {
      "cell_type": "code",
      "metadata": {
        "id": "dS80fgHT4e9A",
        "colab_type": "code",
        "colab": {}
      },
      "source": [
        ""
      ],
      "execution_count": 0,
      "outputs": []
    }
  ]
}