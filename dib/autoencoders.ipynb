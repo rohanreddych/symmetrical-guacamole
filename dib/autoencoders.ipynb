{
  "nbformat": 4,
  "nbformat_minor": 0,
  "metadata": {
    "colab": {
      "name": "autoencoders.ipynb",
      "provenance": [],
      "include_colab_link": true
    },
    "kernelspec": {
      "name": "python3",
      "display_name": "Python 3"
    },
    "accelerator": "GPU"
  },
  "cells": [
    {
      "cell_type": "markdown",
      "metadata": {
        "id": "view-in-github",
        "colab_type": "text"
      },
      "source": [
        "<a href=\"https://colab.research.google.com/github/rohanreddych/symmetrical-guacamole/blob/master/dib/autoencoders.ipynb\" target=\"_parent\"><img src=\"https://colab.research.google.com/assets/colab-badge.svg\" alt=\"Open In Colab\"/></a>"
      ]
    },
    {
      "cell_type": "code",
      "metadata": {
        "id": "GSvCln0b92_W",
        "colab_type": "code",
        "outputId": "e15a9206-be3c-44a5-ebbe-a0dec5d40cba",
        "colab": {
          "base_uri": "https://localhost:8080/",
          "height": 36
        }
      },
      "source": [
        "%tensorflow_version 2.x"
      ],
      "execution_count": 1,
      "outputs": [
        {
          "output_type": "stream",
          "text": [
            "TensorFlow 2.x selected.\n"
          ],
          "name": "stdout"
        }
      ]
    },
    {
      "cell_type": "code",
      "metadata": {
        "id": "KCQcOewY94-h",
        "colab_type": "code",
        "colab": {}
      },
      "source": [
        "import tensorflow as tf\n",
        "import numpy as np\n",
        "import matplotlib.pyplot as plt\n",
        "from tensorflow.keras import layers\n",
        "from tensorflow.keras.datasets import fashion_mnist"
      ],
      "execution_count": 0,
      "outputs": []
    },
    {
      "cell_type": "code",
      "metadata": {
        "id": "XtHJoLmO-QP2",
        "colab_type": "code",
        "outputId": "1a42634d-a23c-4cc0-a713-6489983bea58",
        "colab": {
          "base_uri": "https://localhost:8080/",
          "height": 173
        }
      },
      "source": [
        "(train_x, _), (test_x, _) = fashion_mnist.load_data()"
      ],
      "execution_count": 3,
      "outputs": [
        {
          "output_type": "stream",
          "text": [
            "Downloading data from https://storage.googleapis.com/tensorflow/tf-keras-datasets/train-labels-idx1-ubyte.gz\n",
            "32768/29515 [=================================] - 0s 0us/step\n",
            "Downloading data from https://storage.googleapis.com/tensorflow/tf-keras-datasets/train-images-idx3-ubyte.gz\n",
            "26427392/26421880 [==============================] - 0s 0us/step\n",
            "Downloading data from https://storage.googleapis.com/tensorflow/tf-keras-datasets/t10k-labels-idx1-ubyte.gz\n",
            "8192/5148 [===============================================] - 0s 0us/step\n",
            "Downloading data from https://storage.googleapis.com/tensorflow/tf-keras-datasets/t10k-images-idx3-ubyte.gz\n",
            "4423680/4422102 [==============================] - 0s 0us/step\n"
          ],
          "name": "stdout"
        }
      ]
    },
    {
      "cell_type": "code",
      "metadata": {
        "id": "6CBHZDqhfdXX",
        "colab_type": "code",
        "colab": {}
      },
      "source": [
        "from sklearn.model_selection import train_test_split\n",
        "train_x, val_x = train_test_split(train_x)"
      ],
      "execution_count": 0,
      "outputs": []
    },
    {
      "cell_type": "code",
      "metadata": {
        "id": "qEfROaV4fx3b",
        "colab_type": "code",
        "colab": {}
      },
      "source": [
        "train_x = train_x.reshape(-1, 784)\n",
        "val_x = val_x.reshape(-1, 784)"
      ],
      "execution_count": 0,
      "outputs": []
    },
    {
      "cell_type": "code",
      "metadata": {
        "id": "uxOet9YYUtGJ",
        "colab_type": "code",
        "colab": {}
      },
      "source": [
        "test_x = test_x.reshape(-1,784)\n",
        "test_x = test_x / 255."
      ],
      "execution_count": 0,
      "outputs": []
    },
    {
      "cell_type": "code",
      "metadata": {
        "id": "qbvzwRyfixBe",
        "colab_type": "code",
        "colab": {}
      },
      "source": [
        "train_x = train_x / 255.\n",
        "val_x = val_x / 255."
      ],
      "execution_count": 0,
      "outputs": []
    },
    {
      "cell_type": "code",
      "metadata": {
        "id": "AMbgD0gogEQo",
        "colab_type": "code",
        "colab": {}
      },
      "source": [
        "model1 = tf.keras.models.Sequential([layers.InputLayer(input_shape=(784,)), \n",
        "                                     layers.Dense(1500, activation=\"relu\"), \n",
        "                                     layers.Dense(1000, activation=\"relu\"),\n",
        "                                     layers.Dense(500, activation=\"relu\"),\n",
        "                                     layers.Dense(10, activation=\"sigmoid\"),\n",
        "                                     layers.Dense(500, activation=\"relu\"),\n",
        "                                     layers.Dense(1000, activation=\"relu\"),\n",
        "                                     layers.Dense(1500, activation=\"relu\"),\n",
        "                                     layers.Dense(784, activation=\"relu\"),\n",
        "                                     ])"
      ],
      "execution_count": 0,
      "outputs": []
    },
    {
      "cell_type": "code",
      "metadata": {
        "id": "vuTmC6TThTyb",
        "colab_type": "code",
        "colab": {}
      },
      "source": [
        "model1.compile(optimizer=\"adam\", loss=\"mse\")"
      ],
      "execution_count": 0,
      "outputs": []
    },
    {
      "cell_type": "code",
      "metadata": {
        "id": "w80XxrBhhYK2",
        "colab_type": "code",
        "outputId": "23b347d5-acfa-4dae-d9c4-dd1fdffc9319",
        "colab": {
          "base_uri": "https://localhost:8080/",
          "height": 485
        }
      },
      "source": [
        "model1.summary()"
      ],
      "execution_count": 9,
      "outputs": [
        {
          "output_type": "stream",
          "text": [
            "Model: \"sequential\"\n",
            "_________________________________________________________________\n",
            "Layer (type)                 Output Shape              Param #   \n",
            "=================================================================\n",
            "dense (Dense)                (None, 1500)              1177500   \n",
            "_________________________________________________________________\n",
            "dense_1 (Dense)              (None, 1000)              1501000   \n",
            "_________________________________________________________________\n",
            "dense_2 (Dense)              (None, 500)               500500    \n",
            "_________________________________________________________________\n",
            "dense_3 (Dense)              (None, 10)                5010      \n",
            "_________________________________________________________________\n",
            "dense_4 (Dense)              (None, 500)               5500      \n",
            "_________________________________________________________________\n",
            "dense_5 (Dense)              (None, 1000)              501000    \n",
            "_________________________________________________________________\n",
            "dense_6 (Dense)              (None, 1500)              1501500   \n",
            "_________________________________________________________________\n",
            "dense_7 (Dense)              (None, 784)               1176784   \n",
            "=================================================================\n",
            "Total params: 6,368,794\n",
            "Trainable params: 6,368,794\n",
            "Non-trainable params: 0\n",
            "_________________________________________________________________\n"
          ],
          "name": "stdout"
        }
      ]
    },
    {
      "cell_type": "code",
      "metadata": {
        "id": "qc63YJMeP1Xb",
        "colab_type": "code",
        "outputId": "8c0985f5-2a6e-4ffe-b2a8-37cf3904196c",
        "colab": {
          "base_uri": "https://localhost:8080/",
          "height": 835
        }
      },
      "source": [
        "model1.fit(train_x, train_x, batch_size=32, epochs=20, validation_data=(val_x, val_x))"
      ],
      "execution_count": 10,
      "outputs": [
        {
          "output_type": "stream",
          "text": [
            "Train on 45000 samples, validate on 15000 samples\n",
            "Epoch 1/20\n",
            "45000/45000 [==============================] - 7s 166us/sample - loss: 0.0387 - val_loss: 0.0263\n",
            "Epoch 2/20\n",
            "45000/45000 [==============================] - 5s 120us/sample - loss: 0.0232 - val_loss: 0.0211\n",
            "Epoch 3/20\n",
            "45000/45000 [==============================] - 5s 120us/sample - loss: 0.0201 - val_loss: 0.0192\n",
            "Epoch 4/20\n",
            "45000/45000 [==============================] - 5s 120us/sample - loss: 0.0181 - val_loss: 0.0176\n",
            "Epoch 5/20\n",
            "45000/45000 [==============================] - 5s 119us/sample - loss: 0.0168 - val_loss: 0.0171\n",
            "Epoch 6/20\n",
            "45000/45000 [==============================] - 5s 119us/sample - loss: 0.0159 - val_loss: 0.0155\n",
            "Epoch 7/20\n",
            "45000/45000 [==============================] - 6s 124us/sample - loss: 0.0152 - val_loss: 0.0152\n",
            "Epoch 8/20\n",
            "45000/45000 [==============================] - 5s 118us/sample - loss: 0.0149 - val_loss: 0.0154\n",
            "Epoch 9/20\n",
            "45000/45000 [==============================] - 5s 122us/sample - loss: 0.0144 - val_loss: 0.0148\n",
            "Epoch 10/20\n",
            "45000/45000 [==============================] - 5s 120us/sample - loss: 0.0140 - val_loss: 0.0141\n",
            "Epoch 11/20\n",
            "45000/45000 [==============================] - 5s 121us/sample - loss: 0.0135 - val_loss: 0.0140\n",
            "Epoch 12/20\n",
            "45000/45000 [==============================] - 5s 119us/sample - loss: 0.0134 - val_loss: 0.0138\n",
            "Epoch 13/20\n",
            "45000/45000 [==============================] - 5s 121us/sample - loss: 0.0132 - val_loss: 0.0135\n",
            "Epoch 14/20\n",
            "45000/45000 [==============================] - 5s 120us/sample - loss: 0.0131 - val_loss: 0.0138\n",
            "Epoch 15/20\n",
            "45000/45000 [==============================] - 5s 122us/sample - loss: 0.0129 - val_loss: 0.0136\n",
            "Epoch 16/20\n",
            "45000/45000 [==============================] - 5s 120us/sample - loss: 0.0129 - val_loss: 0.0136\n",
            "Epoch 17/20\n",
            "45000/45000 [==============================] - 5s 120us/sample - loss: 0.0127 - val_loss: 0.0136\n",
            "Epoch 18/20\n",
            "45000/45000 [==============================] - 5s 120us/sample - loss: 0.0126 - val_loss: 0.0137\n",
            "Epoch 19/20\n",
            "45000/45000 [==============================] - 5s 120us/sample - loss: 0.0126 - val_loss: 0.0138\n",
            "Epoch 20/20\n",
            "45000/45000 [==============================] - 5s 121us/sample - loss: 0.0125 - val_loss: 0.0135\n"
          ],
          "name": "stdout"
        },
        {
          "output_type": "execute_result",
          "data": {
            "text/plain": [
              "<tensorflow.python.keras.callbacks.History at 0x7fd7a02bf5c0>"
            ]
          },
          "metadata": {
            "tags": []
          },
          "execution_count": 10
        }
      ]
    },
    {
      "cell_type": "code",
      "metadata": {
        "id": "n3Si-SHTQA8_",
        "colab_type": "code",
        "colab": {}
      },
      "source": [
        "preds = model1.predict(test_x)\n"
      ],
      "execution_count": 0,
      "outputs": []
    },
    {
      "cell_type": "code",
      "metadata": {
        "id": "BqjkiNfZQpXl",
        "colab_type": "code",
        "colab": {
          "base_uri": "https://localhost:8080/",
          "height": 284
        },
        "outputId": "2be32da0-8805-4db2-d206-5aeab3ed6f5e"
      },
      "source": [
        "plt.imshow(preds[0].reshape(28,28))"
      ],
      "execution_count": 15,
      "outputs": [
        {
          "output_type": "execute_result",
          "data": {
            "text/plain": [
              "<matplotlib.image.AxesImage at 0x7fd78816a1d0>"
            ]
          },
          "metadata": {
            "tags": []
          },
          "execution_count": 15
        },
        {
          "output_type": "display_data",
          "data": {
            "image/png": "[encoded data removed]",
            "text/plain": [
              "<Figure size 432x288 with 1 Axes>"
            ]
          },
          "metadata": {
            "tags": []
          }
        }
      ]
    },
    {
      "cell_type": "code",
      "metadata": {
        "id": "UAXRJuKZVAGb",
        "colab_type": "code",
        "colab": {
          "base_uri": "https://localhost:8080/",
          "height": 284
        },
        "outputId": "f9fe779a-6b1a-4769-be79-c50707c0065e"
      },
      "source": [
        "plt.imshow(preds[1].reshape(28,28))"
      ],
      "execution_count": 16,
      "outputs": [
        {
          "output_type": "execute_result",
          "data": {
            "text/plain": [
              "<matplotlib.image.AxesImage at 0x7fd7880f2748>"
            ]
          },
          "metadata": {
            "tags": []
          },
          "execution_count": 16
        },
        {
          "output_type": "display_data",
          "data": {
            "image/png": "[encoded data removed]",
            "text/plain": [
              "<Figure size 432x288 with 1 Axes>"
            ]
          },
          "metadata": {
            "tags": []
          }
        }
      ]
    },
    {
      "cell_type": "code",
      "metadata": {
        "id": "JOvb7wWsVHMI",
        "colab_type": "code",
        "colab": {}
      },
      "source": [
        ""
      ],
      "execution_count": 0,
      "outputs": []
    }
  ]
}