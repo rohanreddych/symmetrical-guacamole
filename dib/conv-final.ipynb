{
  "nbformat": 4,
  "nbformat_minor": 0,
  "metadata": {
    "colab": {
      "name": "Untitled9.ipynb",
      "provenance": [],
      "collapsed_sections": [],
      "include_colab_link": true
    },
    "kernelspec": {
      "name": "python3",
      "display_name": "Python 3"
    },
    "accelerator": "GPU"
  },
  "cells": [
    {
      "cell_type": "markdown",
      "metadata": {
        "id": "view-in-github",
        "colab_type": "text"
      },
      "source": [
        "<a href=\"https://colab.research.google.com/github/rohanreddych/symmetrical-guacamole/blob/master/dib/conv-final.ipynb\" target=\"_parent\"><img src=\"https://colab.research.google.com/assets/colab-badge.svg\" alt=\"Open In Colab\"/></a>"
      ]
    },
    {
      "cell_type": "code",
      "metadata": {
        "id": "kyBxBDc2M8bj",
        "colab_type": "code",
        "outputId": "a1e0164b-05d9-4401-d6b4-04451b265bd4",
        "colab": {
          "base_uri": "https://localhost:8080/",
          "height": 36
        }
      },
      "source": [
        "%tensorflow_version 2.x"
      ],
      "execution_count": 1,
      "outputs": [
        {
          "output_type": "stream",
          "text": [
            "TensorFlow 2.x selected.\n"
          ],
          "name": "stdout"
        }
      ]
    },
    {
      "cell_type": "code",
      "metadata": {
        "id": "7isb2YIVSXsj",
        "colab_type": "code",
        "colab": {}
      },
      "source": [
        "import tensorflow as tf\n",
        "import os\n",
        "import cv2\n",
        "import numpy as np\n",
        "import matplotlib.pyplot as plt\n"
      ],
      "execution_count": 0,
      "outputs": []
    },
    {
      "cell_type": "code",
      "metadata": {
        "id": "bvAdNXEUt_K0",
        "colab_type": "code",
        "colab": {}
      },
      "source": [
        "from google.colab import drive\n",
        "drive.mount('/content/drive')"
      ],
      "execution_count": 0,
      "outputs": []
    },
    {
      "cell_type": "code",
      "metadata": {
        "id": "-KX2A23PXzzT",
        "colab_type": "code",
        "colab": {}
      },
      "source": [
        "x_list = os.listdir(\"/content/drive/My Drive/300-pages/split/gray\")\n",
        "y_list = os.listdir(\"/content/drive/My Drive/300-pages/split/bin\")\n",
        "x_list.sort()\n",
        "y_list.sort()"
      ],
      "execution_count": 0,
      "outputs": []
    },
    {
      "cell_type": "code",
      "metadata": {
        "id": "T8t0qkKwuwD1",
        "colab_type": "code",
        "outputId": "9f034175-8a3d-4b85-a2b5-e7fcb9eccd64",
        "colab": {
          "base_uri": "https://localhost:8080/",
          "height": 36
        }
      },
      "source": [
        "print(len(x_list), len(y_list))"
      ],
      "execution_count": 5,
      "outputs": [
        {
          "output_type": "stream",
          "text": [
            "5328 5328\n"
          ],
          "name": "stdout"
        }
      ]
    },
    {
      "cell_type": "code",
      "metadata": {
        "id": "RCTYUSzLu--P",
        "colab_type": "code",
        "colab": {}
      },
      "source": [
        "X = [\"/content/drive/My Drive/300-pages/split/gray/\"+i for i in x_list]\n",
        "y = [\"/content/drive/My Drive/300-pages/split/bin/\"+i for i in y_list]"
      ],
      "execution_count": 0,
      "outputs": []
    },
    {
      "cell_type": "code",
      "metadata": {
        "id": "A6vryH_evQrS",
        "colab_type": "code",
        "colab": {}
      },
      "source": [
        "def pp(img, label):\n",
        "    img = tf.io.read_file(img)\n",
        "    img = tf.image.decode_png(img, channels=1)\n",
        "    img = tf.image.resize(img, [128,128])\n",
        "    #img = tf.reshape(img, [784,])\n",
        "    img = img / 255.\n",
        "    lbl = tf.io.read_file(label)\n",
        "    lbl = tf.image.decode_png(lbl, channels=1)\n",
        "    lbl = tf.image.resize(lbl,[128,128])\n",
        "    lbl = lbl / 255.\n",
        "    lbl = tf.round(lbl)\n",
        "    return img, lbl"
      ],
      "execution_count": 0,
      "outputs": []
    },
    {
      "cell_type": "code",
      "metadata": {
        "id": "XuQAqMtGuzIW",
        "colab_type": "code",
        "colab": {}
      },
      "source": [
        "dataset = tf.data.Dataset.from_tensor_slices((X,y))#data"
      ],
      "execution_count": 0,
      "outputs": []
    },
    {
      "cell_type": "code",
      "metadata": {
        "id": "nMfOfd0LzDv5",
        "colab_type": "code",
        "colab": {}
      },
      "source": [
        "ds2 = dataset.map(pp)"
      ],
      "execution_count": 0,
      "outputs": []
    },
    {
      "cell_type": "code",
      "metadata": {
        "id": "LWgqzwCX9Cz4",
        "colab_type": "code",
        "colab": {}
      },
      "source": [
        "from tensorflow.keras import layers"
      ],
      "execution_count": 0,
      "outputs": []
    },
    {
      "cell_type": "code",
      "metadata": {
        "id": "ThAu0bv16-43",
        "colab_type": "code",
        "colab": {}
      },
      "source": [
        "model2 = tf.keras.models.Sequential([layers.InputLayer(input_shape=(128,128,1)),\n",
        "                                     layers.Conv2D(64,(3,3),activation=\"relu\", padding=\"same\"),\n",
        "                                     layers.MaxPool2D((2,2),padding=\"same\"),\n",
        "                                     layers.Conv2D(32,(3,3),activation=\"relu\", padding=\"same\"),\n",
        "                                     layers.MaxPool2D((2,2),padding=\"same\"),\n",
        "                                     layers.Conv2D(16, (3,3), padding=\"same\", activation=\"relu\"),\n",
        "                                     layers.MaxPool2D((2,2),padding=\"same\"), \n",
        "                                     layers.Conv2D(16, (3,3),activation=\"relu\", padding=\"same\"),\n",
        "                                     layers.UpSampling2D((2,2)),\n",
        "                                     layers.Conv2D(32, (3,3), activation=\"relu\", padding=\"same\"),\n",
        "                                     layers.UpSampling2D((2,2)),\n",
        "                                     layers.Conv2D(64, (3,3), activation=\"relu\", padding=\"same\"),\n",
        "                                     layers.UpSampling2D((2,2)),\n",
        "                                     layers.Conv2D(1, (3,3), padding=\"same\"),\n",
        "])"
      ],
      "execution_count": 0,
      "outputs": []
    },
    {
      "cell_type": "code",
      "metadata": {
        "id": "21gM8kzM8817",
        "colab_type": "code",
        "colab": {}
      },
      "source": [
        "model2.compile(loss=\"mse\",optimizer=\"adam\")"
      ],
      "execution_count": 0,
      "outputs": []
    },
    {
      "cell_type": "code",
      "metadata": {
        "id": "1FpQGsu59zsm",
        "colab_type": "code",
        "outputId": "462692ef-8f98-4003-ec85-3ffb09dbd092",
        "colab": {
          "base_uri": "https://localhost:8080/",
          "height": 680
        }
      },
      "source": [
        "model2.summary()"
      ],
      "execution_count": 13,
      "outputs": [
        {
          "output_type": "stream",
          "text": [
            "Model: \"sequential\"\n",
            "_________________________________________________________________\n",
            "Layer (type)                 Output Shape              Param #   \n",
            "=================================================================\n",
            "conv2d (Conv2D)              (None, 128, 128, 64)      640       \n",
            "_________________________________________________________________\n",
            "max_pooling2d (MaxPooling2D) (None, 64, 64, 64)        0         \n",
            "_________________________________________________________________\n",
            "conv2d_1 (Conv2D)            (None, 64, 64, 32)        18464     \n",
            "_________________________________________________________________\n",
            "max_pooling2d_1 (MaxPooling2 (None, 32, 32, 32)        0         \n",
            "_________________________________________________________________\n",
            "conv2d_2 (Conv2D)            (None, 32, 32, 16)        4624      \n",
            "_________________________________________________________________\n",
            "max_pooling2d_2 (MaxPooling2 (None, 16, 16, 16)        0         \n",
            "_________________________________________________________________\n",
            "conv2d_3 (Conv2D)            (None, 16, 16, 16)        2320      \n",
            "_________________________________________________________________\n",
            "up_sampling2d (UpSampling2D) (None, 32, 32, 16)        0         \n",
            "_________________________________________________________________\n",
            "conv2d_4 (Conv2D)            (None, 32, 32, 32)        4640      \n",
            "_________________________________________________________________\n",
            "up_sampling2d_1 (UpSampling2 (None, 64, 64, 32)        0         \n",
            "_________________________________________________________________\n",
            "conv2d_5 (Conv2D)            (None, 64, 64, 64)        18496     \n",
            "_________________________________________________________________\n",
            "up_sampling2d_2 (UpSampling2 (None, 128, 128, 64)      0         \n",
            "_________________________________________________________________\n",
            "conv2d_6 (Conv2D)            (None, 128, 128, 1)       577       \n",
            "=================================================================\n",
            "Total params: 49,761\n",
            "Trainable params: 49,761\n",
            "Non-trainable params: 0\n",
            "_________________________________________________________________\n"
          ],
          "name": "stdout"
        }
      ]
    },
    {
      "cell_type": "code",
      "metadata": {
        "id": "SgdkuNvCnYMJ",
        "colab_type": "code",
        "colab": {}
      },
      "source": [
        "for i, j in ds2.take(2):\n",
        "    print(j)"
      ],
      "execution_count": 0,
      "outputs": []
    },
    {
      "cell_type": "code",
      "metadata": {
        "id": "daWq8OQkdAVx",
        "colab_type": "code",
        "colab": {
          "base_uri": "https://localhost:8080/",
          "height": 446
        },
        "outputId": "fb754d2f-d382-46de-a8fd-24d3e49f5af4"
      },
      "source": [
        "ds3 = ds2.batch(16)\n",
        "model2.fit(ds3, epochs = 10)"
      ],
      "execution_count": 30,
      "outputs": [
        {
          "output_type": "stream",
          "text": [
            "Train for 333 steps\n",
            "Epoch 1/10\n",
            "333/333 [==============================] - 3643s 11s/step - loss: 0.0704\n",
            "Epoch 2/10\n",
            "333/333 [==============================] - 36s 108ms/step - loss: 0.0545\n",
            "Epoch 3/10\n",
            "333/333 [==============================] - 36s 108ms/step - loss: 0.0520\n",
            "Epoch 4/10\n",
            "333/333 [==============================] - 37s 110ms/step - loss: 0.0492\n",
            "Epoch 5/10\n",
            "333/333 [==============================] - 36s 108ms/step - loss: 0.0462\n",
            "Epoch 6/10\n",
            "333/333 [==============================] - 36s 108ms/step - loss: 0.0445\n",
            "Epoch 7/10\n",
            "333/333 [==============================] - 36s 109ms/step - loss: 0.0432\n",
            "Epoch 8/10\n",
            "333/333 [==============================] - 36s 108ms/step - loss: 0.0420\n",
            "Epoch 9/10\n",
            "333/333 [==============================] - 36s 108ms/step - loss: 0.0408\n",
            "Epoch 10/10\n",
            "333/333 [==============================] - 36s 108ms/step - loss: 0.0398\n"
          ],
          "name": "stdout"
        },
        {
          "output_type": "execute_result",
          "data": {
            "text/plain": [
              "<tensorflow.python.keras.callbacks.History at 0x7f08c4fdde80>"
            ]
          },
          "metadata": {
            "tags": []
          },
          "execution_count": 30
        }
      ]
    },
    {
      "cell_type": "code",
      "metadata": {
        "id": "bXKTlY3W9rHf",
        "colab_type": "code",
        "colab": {}
      },
      "source": [
        "test_x = []\n",
        "preds = []\n",
        "test_y = []\n",
        "for i,j in ds2.take(10):\n",
        "    test_x.append(i)\n",
        "    test_y.append(j)"
      ],
      "execution_count": 0,
      "outputs": []
    },
    {
      "cell_type": "code",
      "metadata": {
        "id": "d9On3_dnOvx6",
        "colab_type": "code",
        "colab": {}
      },
      "source": [
        "test_x = tf.reshape(test_x, [10,128,128,1])\n",
        "preds = model2.predict(test_x)"
      ],
      "execution_count": 0,
      "outputs": []
    },
    {
      "cell_type": "code",
      "metadata": {
        "id": "CmoL7E2LSwAj",
        "colab_type": "code",
        "colab": {
          "base_uri": "https://localhost:8080/",
          "height": 287
        },
        "outputId": "063c6a54-9a71-4686-b5aa-a857bb82ab29"
      },
      "source": [
        "plt.imshow(test_x[7].numpy().reshape(128,128), cmap=\"gray\")"
      ],
      "execution_count": 43,
      "outputs": [
        {
          "output_type": "execute_result",
          "data": {
            "text/plain": [
              "<matplotlib.image.AxesImage at 0x7f08befd9630>"
            ]
          },
          "metadata": {
            "tags": []
          },
          "execution_count": 43
        },
        {
          "output_type": "display_data",
          "data": {
            "image/png": "[encoded data removed]",
            "text/plain": [
              "<Figure size 432x288 with 1 Axes>"
            ]
          },
          "metadata": {
            "tags": []
          }
        }
      ]
    },
    {
      "cell_type": "code",
      "metadata": {
        "id": "mehgSQT-S75i",
        "colab_type": "code",
        "colab": {
          "base_uri": "https://localhost:8080/",
          "height": 287
        },
        "outputId": "a90bc529-c85e-4404-a745-c214a9e06760"
      },
      "source": [
        "plt.imshow(test_y[7].numpy().reshape(128, 128), cmap=\"gray\")"
      ],
      "execution_count": 44,
      "outputs": [
        {
          "output_type": "execute_result",
          "data": {
            "text/plain": [
              "<matplotlib.image.AxesImage at 0x7f08befbc400>"
            ]
          },
          "metadata": {
            "tags": []
          },
          "execution_count": 44
        },
        {
          "output_type": "display_data",
          "data": {
            "image/png": "[encoded data removed]",
            "text/plain": [
              "<Figure size 432x288 with 1 Axes>"
            ]
          },
          "metadata": {
            "tags": []
          }
        }
      ]
    },
    {
      "cell_type": "code",
      "metadata": {
        "id": "j325fvCaTY4_",
        "colab_type": "code",
        "colab": {
          "base_uri": "https://localhost:8080/",
          "height": 287
        },
        "outputId": "8b9e1362-22c6-461c-9349-60e16cfcefa8"
      },
      "source": [
        "plt.imshow(preds[7].reshape(128,128),cmap=\"gray\")"
      ],
      "execution_count": 46,
      "outputs": [
        {
          "output_type": "execute_result",
          "data": {
            "text/plain": [
              "<matplotlib.image.AxesImage at 0x7f08bef27860>"
            ]
          },
          "metadata": {
            "tags": []
          },
          "execution_count": 46
        },
        {
          "output_type": "display_data",
          "data": {
            "image/png": "[encoded data removed]",
            "text/plain": [
              "<Figure size 432x288 with 1 Axes>"
            ]
          },
          "metadata": {
            "tags": []
          }
        }
      ]
    },
    {
      "cell_type": "code",
      "metadata": {
        "id": "Abd1B0jxUBBC",
        "colab_type": "code",
        "colab": {}
      },
      "source": [
        "pp = tf.math.round(preds[7])"
      ],
      "execution_count": 0,
      "outputs": []
    },
    {
      "cell_type": "code",
      "metadata": {
        "id": "vmDuYpuzUHwY",
        "colab_type": "code",
        "colab": {
          "base_uri": "https://localhost:8080/",
          "height": 287
        },
        "outputId": "5eae0a32-c681-4f3c-953c-4a7cb1a82675"
      },
      "source": [
        "plt.imshow(pp.numpy().reshape(128,128),cmap=\"gray\")"
      ],
      "execution_count": 49,
      "outputs": [
        {
          "output_type": "execute_result",
          "data": {
            "text/plain": [
              "<matplotlib.image.AxesImage at 0x7f08f1f2db00>"
            ]
          },
          "metadata": {
            "tags": []
          },
          "execution_count": 49
        },
        {
          "output_type": "display_data",
          "data": {
            "image/png": "[encoded data removed]",
            "text/plain": [
              "<Figure size 432x288 with 1 Axes>"
            ]
          },
          "metadata": {
            "tags": []
          }
        }
      ]
    },
    {
      "cell_type": "code",
      "metadata": {
        "id": "HKVdNKgUUWDN",
        "colab_type": "code",
        "colab": {}
      },
      "source": [
        ""
      ],
      "execution_count": 0,
      "outputs": []
    }
  ]
}