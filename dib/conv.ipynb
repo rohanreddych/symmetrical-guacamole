{
  "nbformat": 4,
  "nbformat_minor": 0,
  "metadata": {
    "colab": {
      "name": "Untitled9.ipynb",
      "provenance": [],
      "collapsed_sections": [],
      "include_colab_link": true
    },
    "kernelspec": {
      "name": "python3",
      "display_name": "Python 3"
    },
    "accelerator": "GPU"
  },
  "cells": [
    {
      "cell_type": "markdown",
      "metadata": {
        "id": "view-in-github",
        "colab_type": "text"
      },
      "source": [
        "<a href=\"https://colab.research.google.com/github/rohanreddych/symmetrical-guacamole/blob/master/dib/conv.ipynb\" target=\"_parent\"><img src=\"https://colab.research.google.com/assets/colab-badge.svg\" alt=\"Open In Colab\"/></a>"
      ]
    },
    {
      "cell_type": "code",
      "metadata": {
        "id": "kyBxBDc2M8bj",
        "colab_type": "code",
        "colab": {}
      },
      "source": [
        "%tensorflow_version 2.x"
      ],
      "execution_count": 0,
      "outputs": []
    },
    {
      "cell_type": "code",
      "metadata": {
        "id": "7isb2YIVSXsj",
        "colab_type": "code",
        "colab": {}
      },
      "source": [
        "import tensorflow as tf\n",
        "import os\n",
        "import cv2\n",
        "import numpy as np\n",
        "import matplotlib.pyplot as plt\n"
      ],
      "execution_count": 0,
      "outputs": []
    },
    {
      "cell_type": "code",
      "metadata": {
        "id": "bvAdNXEUt_K0",
        "colab_type": "code",
        "outputId": "06b55760-7442-4187-a470-3aef2052f882",
        "colab": {
          "base_uri": "https://localhost:8080/",
          "height": 134
        }
      },
      "source": [
        "from google.colab import drive\n",
        "drive.mount('/content/drive')"
      ],
      "execution_count": 0,
      "outputs": [
        {
          "output_type": "stream",
          "text": [
            "",
            "\n",
            "Enter your authorization code:\n",
            "··········\n",
            "Mounted at /content/drive\n"
          ],
          "name": "stdout"
        }
      ]
    },
    {
      "cell_type": "code",
      "metadata": {
        "id": "-KX2A23PXzzT",
        "colab_type": "code",
        "colab": {}
      },
      "source": [
        "x_list = os.listdir(\"/content/drive/My Drive/300-pages/split/gray\")\n",
        "y_list = os.listdir(\"/content/drive/My Drive/300-pages/split/bin\")\n",
        "x_list.sort()\n",
        "y_list.sort()"
      ],
      "execution_count": 0,
      "outputs": []
    },
    {
      "cell_type": "code",
      "metadata": {
        "id": "T8t0qkKwuwD1",
        "colab_type": "code",
        "outputId": "ea545217-43aa-4d11-ed32-b171446726a7",
        "colab": {
          "base_uri": "https://localhost:8080/",
          "height": 36
        }
      },
      "source": [
        "print(len(x_list), len(y_list))"
      ],
      "execution_count": 0,
      "outputs": [
        {
          "output_type": "stream",
          "text": [
            "5328 5328\n"
          ],
          "name": "stdout"
        }
      ]
    },
    {
      "cell_type": "code",
      "metadata": {
        "id": "RCTYUSzLu--P",
        "colab_type": "code",
        "colab": {}
      },
      "source": [
        "X = [\"/content/drive/My Drive/300-pages/split/gray/\"+i for i in x_list]\n",
        "y = [\"/content/drive/My Drive/300-pages/split/bin/\"+i for i in y_list]"
      ],
      "execution_count": 0,
      "outputs": []
    },
    {
      "cell_type": "code",
      "metadata": {
        "id": "A6vryH_evQrS",
        "colab_type": "code",
        "colab": {}
      },
      "source": [
        "def pp(img, label):\n",
        "    img = tf.io.read_file(img)\n",
        "    img = tf.image.decode_png(img, channels=1)\n",
        "    img = tf.image.resize(img, [128,128])\n",
        "    #img = tf.reshape(img, [784,])\n",
        "    img = img / 255.\n",
        "    lbl = tf.io.read_file(label)\n",
        "    lbl = tf.image.decode_png(lbl, channels=1)\n",
        "    lbl = tf.image.resize(lbl,[128,128])\n",
        "    #lbl = tf.reshape(lbl, [784,])\n",
        "    lbl = lbl / 255.\n",
        "    return img, lbl"
      ],
      "execution_count": 0,
      "outputs": []
    },
    {
      "cell_type": "code",
      "metadata": {
        "id": "XuQAqMtGuzIW",
        "colab_type": "code",
        "colab": {}
      },
      "source": [
        "dataset = tf.data.Dataset.from_tensor_slices((X,y))#data"
      ],
      "execution_count": 0,
      "outputs": []
    },
    {
      "cell_type": "code",
      "metadata": {
        "id": "nMfOfd0LzDv5",
        "colab_type": "code",
        "colab": {}
      },
      "source": [
        "ds2 = dataset.map(pp)"
      ],
      "execution_count": 0,
      "outputs": []
    },
    {
      "cell_type": "code",
      "metadata": {
        "id": "FaS0-PauAN_U",
        "colab_type": "code",
        "outputId": "4ad641ce-fd12-494c-8c13-5e0a97ced96d",
        "colab": {
          "base_uri": "https://localhost:8080/",
          "height": 1000
        }
      },
      "source": [
        "for i,j in ds2.take(2):\n",
        "    print(i,j)"
      ],
      "execution_count": 0,
      "outputs": [
        {
          "output_type": "stream",
          "text": [
            "tf.Tensor(\n",
            "[[[1.        ]\n",
            "  [1.        ]\n",
            "  [0.9464837 ]\n",
            "  ...\n",
            "  [0.87388176]\n",
            "  [0.8699473 ]\n",
            "  [0.8784186 ]]\n",
            "\n",
            " [[1.        ]\n",
            "  [1.        ]\n",
            "  [0.9327304 ]\n",
            "  ...\n",
            "  [0.86865014]\n",
            "  [0.88038456]\n",
            "  [0.88631284]]\n",
            "\n",
            " [[1.        ]\n",
            "  [1.        ]\n",
            "  [0.9456342 ]\n",
            "  ...\n",
            "  [0.88235295]\n",
            "  [0.88235295]\n",
            "  [0.8889528 ]]\n",
            "\n",
            " ...\n",
            "\n",
            " [[1.        ]\n",
            "  [1.        ]\n",
            "  [0.92072713]\n",
            "  ...\n",
            "  [0.89867955]\n",
            "  [0.91044486]\n",
            "  [0.9137255 ]]\n",
            "\n",
            " [[1.        ]\n",
            "  [1.        ]\n",
            "  [0.9280582 ]\n",
            "  ...\n",
            "  [0.88235295]\n",
            "  [0.89997697]\n",
            "  [0.9058211 ]]\n",
            "\n",
            " [[1.        ]\n",
            "  [1.        ]\n",
            "  [0.9281097 ]\n",
            "  ...\n",
            "  [0.87587214]\n",
            "  [0.8352505 ]\n",
            "  [0.82347214]]], shape=(128, 128, 1), dtype=float32) tf.Tensor(\n",
            "[[[1.       ]\n",
            "  [1.       ]\n",
            "  [1.       ]\n",
            "  ...\n",
            "  [1.       ]\n",
            "  [1.       ]\n",
            "  [1.       ]]\n",
            "\n",
            " [[1.       ]\n",
            "  [1.       ]\n",
            "  [1.       ]\n",
            "  ...\n",
            "  [1.       ]\n",
            "  [1.       ]\n",
            "  [1.       ]]\n",
            "\n",
            " [[1.       ]\n",
            "  [1.       ]\n",
            "  [1.       ]\n",
            "  ...\n",
            "  [1.       ]\n",
            "  [1.       ]\n",
            "  [1.       ]]\n",
            "\n",
            " ...\n",
            "\n",
            " [[1.       ]\n",
            "  [1.       ]\n",
            "  [1.       ]\n",
            "  ...\n",
            "  [1.       ]\n",
            "  [1.       ]\n",
            "  [1.       ]]\n",
            "\n",
            " [[1.       ]\n",
            "  [1.       ]\n",
            "  [1.       ]\n",
            "  ...\n",
            "  [1.       ]\n",
            "  [1.       ]\n",
            "  [1.       ]]\n",
            "\n",
            " [[1.       ]\n",
            "  [1.       ]\n",
            "  [1.       ]\n",
            "  ...\n",
            "  [1.       ]\n",
            "  [1.       ]\n",
            "  [0.9238814]]], shape=(128, 128, 1), dtype=float32)\n",
            "tf.Tensor(\n",
            "[[[0.87474126]\n",
            "  [0.8601537 ]\n",
            "  [0.89031273]\n",
            "  ...\n",
            "  [0.9162743 ]\n",
            "  [0.9216402 ]\n",
            "  [0.8977422 ]]\n",
            "\n",
            " [[0.8836729 ]\n",
            "  [0.88235295]\n",
            "  [0.8752322 ]\n",
            "  ...\n",
            "  [0.8836961 ]\n",
            "  [0.8862897 ]\n",
            "  [0.87843394]]\n",
            "\n",
            " [[0.89699405]\n",
            "  [0.8856875 ]\n",
            "  [0.8731771 ]\n",
            "  ...\n",
            "  [0.9001246 ]\n",
            "  [0.891424  ]\n",
            "  [0.8807786 ]]\n",
            "\n",
            " ...\n",
            "\n",
            " [[0.9137255 ]\n",
            "  [0.9137255 ]\n",
            "  [0.90637356]\n",
            "  ...\n",
            "  [0.9001246 ]\n",
            "  [0.90200675]\n",
            "  [0.9137255 ]]\n",
            "\n",
            " [[0.9104371 ]\n",
            "  [0.90976554]\n",
            "  [0.9137255 ]\n",
            "  ...\n",
            "  [0.90449876]\n",
            "  [0.89407927]\n",
            "  [0.89869034]]\n",
            "\n",
            " [[0.82898605]\n",
            "  [0.88679266]\n",
            "  [0.8962741 ]\n",
            "  ...\n",
            "  [0.8971389 ]\n",
            "  [0.88500047]\n",
            "  [0.8947891 ]]], shape=(128, 128, 1), dtype=float32) tf.Tensor(\n",
            "[[[1.       ]\n",
            "  [1.       ]\n",
            "  [1.       ]\n",
            "  ...\n",
            "  [1.       ]\n",
            "  [1.       ]\n",
            "  [1.       ]]\n",
            "\n",
            " [[1.       ]\n",
            "  [1.       ]\n",
            "  [1.       ]\n",
            "  ...\n",
            "  [1.       ]\n",
            "  [1.       ]\n",
            "  [1.       ]]\n",
            "\n",
            " [[1.       ]\n",
            "  [1.       ]\n",
            "  [1.       ]\n",
            "  ...\n",
            "  [1.       ]\n",
            "  [1.       ]\n",
            "  [1.       ]]\n",
            "\n",
            " ...\n",
            "\n",
            " [[1.       ]\n",
            "  [1.       ]\n",
            "  [1.       ]\n",
            "  ...\n",
            "  [1.       ]\n",
            "  [1.       ]\n",
            "  [1.       ]]\n",
            "\n",
            " [[1.       ]\n",
            "  [1.       ]\n",
            "  [1.       ]\n",
            "  ...\n",
            "  [1.       ]\n",
            "  [1.       ]\n",
            "  [1.       ]]\n",
            "\n",
            " [[0.9621607]\n",
            "  [1.       ]\n",
            "  [1.       ]\n",
            "  ...\n",
            "  [1.       ]\n",
            "  [1.       ]\n",
            "  [1.       ]]], shape=(128, 128, 1), dtype=float32)\n"
          ],
          "name": "stdout"
        }
      ]
    },
    {
      "cell_type": "code",
      "metadata": {
        "id": "LWgqzwCX9Cz4",
        "colab_type": "code",
        "colab": {}
      },
      "source": [
        "from tensorflow.keras import layers"
      ],
      "execution_count": 0,
      "outputs": []
    },
    {
      "cell_type": "code",
      "metadata": {
        "id": "ThAu0bv16-43",
        "colab_type": "code",
        "colab": {}
      },
      "source": [
        "model2 = tf.keras.models.Sequential([layers.InputLayer(input_shape=(128,128,1)),\n",
        "                                     layers.Conv2D(64,(3,3),activation=\"relu\", padding=\"same\"),\n",
        "                                     layers.MaxPool2D((2,2),padding=\"same\"),\n",
        "                                     layers.Conv2D(32,(3,3),activation=\"relu\", padding=\"same\"),\n",
        "                                     layers.MaxPool2D((2,2),padding=\"same\"),\n",
        "                                     layers.Conv2D(16, (3,3), padding=\"same\", activation=\"relu\"),\n",
        "                                     layers.MaxPool2D((2,2),padding=\"same\"),\n",
        "                                    #decoding arch\n",
        "                                     layers.Conv2D(16, (3,3),activation=\"relu\", padding=\"same\"),\n",
        "                                     layers.UpSampling2D((2,2)),\n",
        "                                     layers.Conv2D(32, (3,3), activation=\"relu\", padding=\"same\"),\n",
        "                                     layers.UpSampling2D((2,2)),\n",
        "                                     layers.Conv2D(64, (3,3), activation=\"relu\", padding=\"same\"),\n",
        "                                     layers.UpSampling2D((2,2)),\n",
        "                                     layers.Conv2D(1, (3,3), padding=\"same\"),\n",
        "])"
      ],
      "execution_count": 0,
      "outputs": []
    },
    {
      "cell_type": "code",
      "metadata": {
        "id": "21gM8kzM8817",
        "colab_type": "code",
        "colab": {}
      },
      "source": [
        "model2.compile(loss=\"mse\",optimizer=\"adam\")"
      ],
      "execution_count": 0,
      "outputs": []
    },
    {
      "cell_type": "code",
      "metadata": {
        "id": "1FpQGsu59zsm",
        "colab_type": "code",
        "outputId": "8b0dd249-2829-45c1-afee-b0a1ee75d3b2",
        "colab": {
          "base_uri": "https://localhost:8080/",
          "height": 680
        }
      },
      "source": [
        "model2.summary()"
      ],
      "execution_count": 0,
      "outputs": [
        {
          "output_type": "stream",
          "text": [
            "Model: \"sequential_1\"\n",
            "_________________________________________________________________\n",
            "Layer (type)                 Output Shape              Param #   \n",
            "=================================================================\n",
            "conv2d_7 (Conv2D)            (None, 128, 128, 64)      640       \n",
            "_________________________________________________________________\n",
            "max_pooling2d_3 (MaxPooling2 (None, 64, 64, 64)        0         \n",
            "_________________________________________________________________\n",
            "conv2d_8 (Conv2D)            (None, 64, 64, 32)        18464     \n",
            "_________________________________________________________________\n",
            "max_pooling2d_4 (MaxPooling2 (None, 32, 32, 32)        0         \n",
            "_________________________________________________________________\n",
            "conv2d_9 (Conv2D)            (None, 32, 32, 16)        4624      \n",
            "_________________________________________________________________\n",
            "max_pooling2d_5 (MaxPooling2 (None, 16, 16, 16)        0         \n",
            "_________________________________________________________________\n",
            "conv2d_10 (Conv2D)           (None, 16, 16, 16)        2320      \n",
            "_________________________________________________________________\n",
            "up_sampling2d_3 (UpSampling2 (None, 32, 32, 16)        0         \n",
            "_________________________________________________________________\n",
            "conv2d_11 (Conv2D)           (None, 32, 32, 32)        4640      \n",
            "_________________________________________________________________\n",
            "up_sampling2d_4 (UpSampling2 (None, 64, 64, 32)        0         \n",
            "_________________________________________________________________\n",
            "conv2d_12 (Conv2D)           (None, 64, 64, 64)        18496     \n",
            "_________________________________________________________________\n",
            "up_sampling2d_5 (UpSampling2 (None, 128, 128, 64)      0         \n",
            "_________________________________________________________________\n",
            "conv2d_13 (Conv2D)           (None, 128, 128, 1)       577       \n",
            "=================================================================\n",
            "Total params: 49,761\n",
            "Trainable params: 49,761\n",
            "Non-trainable params: 0\n",
            "_________________________________________________________________\n"
          ],
          "name": "stdout"
        }
      ]
    },
    {
      "cell_type": "code",
      "metadata": {
        "id": "rZvJKe-2kjF_",
        "colab_type": "code",
        "colab": {}
      },
      "source": [
        "ds3 = ds2.batch(16)"
      ],
      "execution_count": 0,
      "outputs": []
    },
    {
      "cell_type": "code",
      "metadata": {
        "id": "QH9sZFQlnWTQ",
        "colab_type": "code",
        "outputId": "3c3e380d-7916-4f89-bc54-87e86004b73f",
        "colab": {
          "base_uri": "https://localhost:8080/",
          "height": 251
        }
      },
      "source": [
        "model2.fit(ds3,epochs=5)"
      ],
      "execution_count": 23,
      "outputs": [
        {
          "output_type": "stream",
          "text": [
            "Train for 333 steps\n",
            "Epoch 1/5\n",
            "333/333 [==============================] - 1534s 5s/step - loss: 0.0518\n",
            "Epoch 2/5\n",
            "333/333 [==============================] - 26s 79ms/step - loss: 0.0395\n",
            "Epoch 3/5\n",
            "333/333 [==============================] - 27s 80ms/step - loss: 0.0370\n",
            "Epoch 4/5\n",
            "333/333 [==============================] - 26s 77ms/step - loss: 0.0341\n",
            "Epoch 5/5\n",
            "333/333 [==============================] - 26s 77ms/step - loss: 0.0320\n"
          ],
          "name": "stdout"
        },
        {
          "output_type": "execute_result",
          "data": {
            "text/plain": [
              "<tensorflow.python.keras.callbacks.History at 0x7f2040280160>"
            ]
          },
          "metadata": {
            "tags": []
          },
          "execution_count": 23
        }
      ]
    },
    {
      "cell_type": "code",
      "metadata": {
        "id": "SgdkuNvCnYMJ",
        "colab_type": "code",
        "colab": {}
      },
      "source": [
        "test_x = []\n",
        "test_y = []\n",
        "pred = []\n",
        "for i,j in ds2.take(5):\n",
        "    test_x.append(i)\n",
        "    test_y.append(j)\n",
        "test_x = tf.reshape(test_x,[5,128,128,1])\n",
        "preds = model2.predict(test_x)"
      ],
      "execution_count": 0,
      "outputs": []
    },
    {
      "cell_type": "code",
      "metadata": {
        "id": "UxgeMddmNBLQ",
        "colab_type": "code",
        "outputId": "4399b510-c0f0-4af6-8870-47e4e53c91c2",
        "colab": {
          "base_uri": "https://localhost:8080/",
          "height": 287
        }
      },
      "source": [
        "plt.imshow(preds[2].reshape(128,128), cmap=\"gray\")"
      ],
      "execution_count": 34,
      "outputs": [
        {
          "output_type": "execute_result",
          "data": {
            "text/plain": [
              "<matplotlib.image.AxesImage at 0x7f1faf33e048>"
            ]
          },
          "metadata": {
            "tags": []
          },
          "execution_count": 34
        },
        {
          "output_type": "display_data",
          "data": {
            "image/png": "[encoded data removed]",
            "text/plain": [
              "<Figure size 432x288 with 1 Axes>"
            ]
          },
          "metadata": {
            "tags": []
          }
        }
      ]
    },
    {
      "cell_type": "code",
      "metadata": {
        "id": "1JsqHIIwNVTu",
        "colab_type": "code",
        "outputId": "3173a8ee-db94-4b2c-f27c-9c5908ade086",
        "colab": {
          "base_uri": "https://localhost:8080/",
          "height": 287
        }
      },
      "source": [
        "plt.imshow(tf.reshape(test_x[0],[128,128]), cmap=\"gray\")"
      ],
      "execution_count": 29,
      "outputs": [
        {
          "output_type": "execute_result",
          "data": {
            "text/plain": [
              "<matplotlib.image.AxesImage at 0x7f1faf5194a8>"
            ]
          },
          "metadata": {
            "tags": []
          },
          "execution_count": 29
        },
        {
          "output_type": "display_data",
          "data": {
            "image/png": "[encoded data removed]",
            "text/plain": [
              "<Figure size 432x288 with 1 Axes>"
            ]
          },
          "metadata": {
            "tags": []
          }
        }
      ]
    },
    {
      "cell_type": "code",
      "metadata": {
        "id": "cJY6Nsh_NoLv",
        "colab_type": "code",
        "outputId": "28956f54-f663-4d13-b2dd-96b2e61df9da",
        "colab": {
          "base_uri": "https://localhost:8080/",
          "height": 287
        }
      },
      "source": [
        "plt.imshow(test_y[0].numpy().reshape(128,128),cmap=\"gray\")"
      ],
      "execution_count": 31,
      "outputs": [
        {
          "output_type": "execute_result",
          "data": {
            "text/plain": [
              "<matplotlib.image.AxesImage at 0x7f1faf44ec88>"
            ]
          },
          "metadata": {
            "tags": []
          },
          "execution_count": 31
        },
        {
          "output_type": "display_data",
          "data": {
            "image/png": "[encoded data removed]",
            "text/plain": [
              "<Figure size 432x288 with 1 Axes>"
            ]
          },
          "metadata": {
            "tags": []
          }
        }
      ]
    },
    {
      "cell_type": "code",
      "metadata": {
        "id": "3nIAllkINv2a",
        "colab_type": "code",
        "colab": {
          "base_uri": "https://localhost:8080/",
          "height": 972
        },
        "outputId": "c9bc454f-8aa1-448b-b6da-42e55771d938"
      },
      "source": [
        "preds[0]"
      ],
      "execution_count": 32,
      "outputs": [
        {
          "output_type": "execute_result",
          "data": {
            "text/plain": [
              "array([[[0.84217817],\n",
              "        [0.9435955 ],\n",
              "        [0.9191104 ],\n",
              "        ...,\n",
              "        [0.8880064 ],\n",
              "        [0.915223  ],\n",
              "        [0.80825025]],\n",
              "\n",
              "       [[0.88435155],\n",
              "        [1.0140454 ],\n",
              "        [0.96363103],\n",
              "        ...,\n",
              "        [0.8759959 ],\n",
              "        [0.96198803],\n",
              "        [0.9517612 ]],\n",
              "\n",
              "       [[0.93523467],\n",
              "        [0.97357607],\n",
              "        [0.94188195],\n",
              "        ...,\n",
              "        [0.893379  ],\n",
              "        [0.9009556 ],\n",
              "        [0.89499503]],\n",
              "\n",
              "       ...,\n",
              "\n",
              "       [[0.9387801 ],\n",
              "        [0.9291205 ],\n",
              "        [0.9149349 ],\n",
              "        ...,\n",
              "        [0.9233862 ],\n",
              "        [0.94401103],\n",
              "        [0.9477491 ]],\n",
              "\n",
              "       [[0.96167606],\n",
              "        [0.94089353],\n",
              "        [0.92813486],\n",
              "        ...,\n",
              "        [0.93636763],\n",
              "        [0.9922187 ],\n",
              "        [0.97817165]],\n",
              "\n",
              "       [[0.821492  ],\n",
              "        [0.94109017],\n",
              "        [0.9540443 ],\n",
              "        ...,\n",
              "        [0.91081667],\n",
              "        [0.9390457 ],\n",
              "        [0.8307463 ]]], dtype=float32)"
            ]
          },
          "metadata": {
            "tags": []
          },
          "execution_count": 32
        }
      ]
    },
    {
      "cell_type": "code",
      "metadata": {
        "id": "daWq8OQkdAVx",
        "colab_type": "code",
        "colab": {}
      },
      "source": [
        ""
      ],
      "execution_count": 0,
      "outputs": []
    }
  ]
}
