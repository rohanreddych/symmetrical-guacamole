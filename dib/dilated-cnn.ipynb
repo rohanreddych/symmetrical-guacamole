{
  "nbformat": 4,
  "nbformat_minor": 0,
  "metadata": {
    "colab": {
      "name": "Untitled9.ipynb",
      "provenance": [],
      "collapsed_sections": [],
      "include_colab_link": true
    },
    "kernelspec": {
      "name": "python3",
      "display_name": "Python 3"
    },
    "accelerator": "GPU"
  },
  "cells": [
    {
      "cell_type": "markdown",
      "metadata": {
        "id": "view-in-github",
        "colab_type": "text"
      },
      "source": [
        "<a href=\"https://colab.research.google.com/github/rohanreddych/symmetrical-guacamole/blob/master/dib/dilated-cnn.ipynb\" target=\"_parent\"><img src=\"https://colab.research.google.com/assets/colab-badge.svg\" alt=\"Open In Colab\"/></a>"
      ]
    },
    {
      "cell_type": "code",
      "metadata": {
        "id": "kyBxBDc2M8bj",
        "colab_type": "code",
        "outputId": "c23c5714-a048-440e-f47a-f39c251bd3d6",
        "colab": {
          "base_uri": "https://localhost:8080/",
          "height": 36
        }
      },
      "source": [
        "%tensorflow_version 2.x"
      ],
      "execution_count": 1,
      "outputs": [
        {
          "output_type": "stream",
          "text": [
            "TensorFlow 2.x selected.\n"
          ],
          "name": "stdout"
        }
      ]
    },
    {
      "cell_type": "code",
      "metadata": {
        "id": "7isb2YIVSXsj",
        "colab_type": "code",
        "colab": {}
      },
      "source": [
        "import tensorflow as tf\n",
        "import os\n",
        "import cv2\n",
        "import numpy as np\n",
        "import matplotlib.pyplot as plt\n"
      ],
      "execution_count": 0,
      "outputs": []
    },
    {
      "cell_type": "code",
      "metadata": {
        "id": "bvAdNXEUt_K0",
        "colab_type": "code",
        "outputId": "5c7fa1ee-95ae-4d63-edc6-4bf7c00eee09",
        "colab": {
          "base_uri": "https://localhost:8080/",
          "height": 134
        }
      },
      "source": [
        "from google.colab import drive\n",
        "drive.mount('/content/drive')"
      ],
      "execution_count": 3,
      "outputs": [
        {
          "output_type": "stream",
          "text": [
            "Go to this URL in a browser: https://accounts.google.com/o/oauth2/auth?client_id=947318989803-6bn6qk8qdgf4n4g3pfee6491hc0brc4i.apps.googleusercontent.com&redirect_uri=urn%3aietf%3awg%3aoauth%3a2.0%3aoob&response_type=code&scope=email%20https%3a%2f%2fwww.googleapis.com%2fauth%2fdocs.test%20https%3a%2f%2fwww.googleapis.com%2fauth%2fdrive%20https%3a%2f%2fwww.googleapis.com%2fauth%2fdrive.photos.readonly%20https%3a%2f%2fwww.googleapis.com%2fauth%2fpeopleapi.readonly\n",
            "\n",
            "Enter your authorization code:\n",
            "··········\n",
            "Mounted at /content/drive\n"
          ],
          "name": "stdout"
        }
      ]
    },
    {
      "cell_type": "code",
      "metadata": {
        "id": "-KX2A23PXzzT",
        "colab_type": "code",
        "colab": {}
      },
      "source": [
        "x_list = os.listdir(\"/content/drive/My Drive/300-pages/split/gray\")\n",
        "y_list = os.listdir(\"/content/drive/My Drive/300-pages/split/bin\")\n",
        "x_list.sort()\n",
        "y_list.sort()"
      ],
      "execution_count": 0,
      "outputs": []
    },
    {
      "cell_type": "code",
      "metadata": {
        "id": "T8t0qkKwuwD1",
        "colab_type": "code",
        "outputId": "9f87bc2c-e883-4d17-8589-1a470085a85d",
        "colab": {
          "base_uri": "https://localhost:8080/",
          "height": 36
        }
      },
      "source": [
        "print(len(x_list), len(y_list))"
      ],
      "execution_count": 5,
      "outputs": [
        {
          "output_type": "stream",
          "text": [
            "5328 5328\n"
          ],
          "name": "stdout"
        }
      ]
    },
    {
      "cell_type": "code",
      "metadata": {
        "id": "RCTYUSzLu--P",
        "colab_type": "code",
        "colab": {}
      },
      "source": [
        "X = [\"/content/drive/My Drive/300-pages/split/gray/\"+i for i in x_list]\n",
        "y = [\"/content/drive/My Drive/300-pages/split/bin/\"+i for i in y_list]"
      ],
      "execution_count": 0,
      "outputs": []
    },
    {
      "cell_type": "code",
      "metadata": {
        "id": "A6vryH_evQrS",
        "colab_type": "code",
        "colab": {}
      },
      "source": [
        "def pp(img, label):\n",
        "    img = tf.io.read_file(img)\n",
        "    img = tf.image.decode_png(img, channels=1)\n",
        "    img = tf.image.resize(img, [128,128])\n",
        "    #img = tf.reshape(img, [784,])\n",
        "    img = img / 255.\n",
        "    lbl = tf.io.read_file(label)\n",
        "    lbl = tf.image.decode_png(lbl, channels=1)\n",
        "    lbl = tf.image.resize(lbl,[128,128])\n",
        "    lbl = lbl / 255.\n",
        "    lbl = tf.round(lbl)\n",
        "    return img, lbl"
      ],
      "execution_count": 0,
      "outputs": []
    },
    {
      "cell_type": "code",
      "metadata": {
        "id": "XuQAqMtGuzIW",
        "colab_type": "code",
        "colab": {}
      },
      "source": [
        "dataset = tf.data.Dataset.from_tensor_slices((X,y))#data"
      ],
      "execution_count": 0,
      "outputs": []
    },
    {
      "cell_type": "code",
      "metadata": {
        "id": "nMfOfd0LzDv5",
        "colab_type": "code",
        "colab": {}
      },
      "source": [
        "ds2 = dataset.map(pp)"
      ],
      "execution_count": 0,
      "outputs": []
    },
    {
      "cell_type": "code",
      "metadata": {
        "id": "LWgqzwCX9Cz4",
        "colab_type": "code",
        "colab": {}
      },
      "source": [
        "from tensorflow.keras import layers"
      ],
      "execution_count": 0,
      "outputs": []
    },
    {
      "cell_type": "code",
      "metadata": {
        "id": "ThAu0bv16-43",
        "colab_type": "code",
        "colab": {}
      },
      "source": [
        "model3 = tf.keras.models.Sequential([layers.InputLayer(input_shape=(128,128,1)),\n",
        "                                     layers.Conv2D(64,(3,3),activation=\"relu\", padding=\"same\", dilation_rate=2),\n",
        "                                     layers.MaxPool2D((2,2),padding=\"same\"),\n",
        "                                     layers.Conv2D(32,(3,3),activation=\"relu\", padding=\"same\", dilation_rate=2),\n",
        "                                     layers.MaxPool2D((2,2),padding=\"same\"),\n",
        "                                     layers.Conv2D(16, (3,3), padding=\"same\", activation=\"relu\", dilation_rate=2),\n",
        "                                     layers.MaxPool2D((2,2),padding=\"same\"), \n",
        "                                     layers.Conv2D(16, (3,3),activation=\"relu\", padding=\"same\", dilation_rate=2),\n",
        "                                     layers.UpSampling2D((2,2)),\n",
        "                                     layers.Conv2D(32, (3,3), activation=\"relu\", padding=\"same\", dilation_rate=2),\n",
        "                                     layers.UpSampling2D((2,2)),\n",
        "                                     layers.Conv2D(64, (3,3), activation=\"relu\", padding=\"same\", dilation_rate=2),\n",
        "                                     layers.UpSampling2D((2,2)),\n",
        "                                     layers.Conv2D(1, (3,3), padding=\"same\", dilation_rate=2),\n",
        "                                     layers.Dense(1, activation=\"sigmoid\")\n",
        "])"
      ],
      "execution_count": 0,
      "outputs": []
    },
    {
      "cell_type": "code",
      "metadata": {
        "id": "21gM8kzM8817",
        "colab_type": "code",
        "colab": {}
      },
      "source": [
        "model3.compile(loss=\"mse\",optimizer=\"adam\")"
      ],
      "execution_count": 0,
      "outputs": []
    },
    {
      "cell_type": "code",
      "metadata": {
        "id": "1FpQGsu59zsm",
        "colab_type": "code",
        "outputId": "1414e779-b2f8-491e-b4e7-f0b530d38def",
        "colab": {
          "base_uri": "https://localhost:8080/",
          "height": 718
        }
      },
      "source": [
        "model3.summary()"
      ],
      "execution_count": 13,
      "outputs": [
        {
          "output_type": "stream",
          "text": [
            "Model: \"sequential\"\n",
            "_________________________________________________________________\n",
            "Layer (type)                 Output Shape              Param #   \n",
            "=================================================================\n",
            "conv2d (Conv2D)              (None, 128, 128, 64)      640       \n",
            "_________________________________________________________________\n",
            "max_pooling2d (MaxPooling2D) (None, 64, 64, 64)        0         \n",
            "_________________________________________________________________\n",
            "conv2d_1 (Conv2D)            (None, 64, 64, 32)        18464     \n",
            "_________________________________________________________________\n",
            "max_pooling2d_1 (MaxPooling2 (None, 32, 32, 32)        0         \n",
            "_________________________________________________________________\n",
            "conv2d_2 (Conv2D)            (None, 32, 32, 16)        4624      \n",
            "_________________________________________________________________\n",
            "max_pooling2d_2 (MaxPooling2 (None, 16, 16, 16)        0         \n",
            "_________________________________________________________________\n",
            "conv2d_3 (Conv2D)            (None, 16, 16, 16)        2320      \n",
            "_________________________________________________________________\n",
            "up_sampling2d (UpSampling2D) (None, 32, 32, 16)        0         \n",
            "_________________________________________________________________\n",
            "conv2d_4 (Conv2D)            (None, 32, 32, 32)        4640      \n",
            "_________________________________________________________________\n",
            "up_sampling2d_1 (UpSampling2 (None, 64, 64, 32)        0         \n",
            "_________________________________________________________________\n",
            "conv2d_5 (Conv2D)            (None, 64, 64, 64)        18496     \n",
            "_________________________________________________________________\n",
            "up_sampling2d_2 (UpSampling2 (None, 128, 128, 64)      0         \n",
            "_________________________________________________________________\n",
            "conv2d_6 (Conv2D)            (None, 128, 128, 1)       577       \n",
            "_________________________________________________________________\n",
            "dense (Dense)                (None, 128, 128, 1)       2         \n",
            "=================================================================\n",
            "Total params: 49,763\n",
            "Trainable params: 49,763\n",
            "Non-trainable params: 0\n",
            "_________________________________________________________________\n"
          ],
          "name": "stdout"
        }
      ]
    },
    {
      "cell_type": "code",
      "metadata": {
        "id": "SgdkuNvCnYMJ",
        "colab_type": "code",
        "colab": {}
      },
      "source": [
        "for i, j in ds2.take(2):\n",
        "    print(j)"
      ],
      "execution_count": 0,
      "outputs": []
    },
    {
      "cell_type": "code",
      "metadata": {
        "id": "daWq8OQkdAVx",
        "colab_type": "code",
        "outputId": "efe7f01a-8b91-4a7d-8507-aab863959e9f",
        "colab": {
          "base_uri": "https://localhost:8080/",
          "height": 446
        }
      },
      "source": [
        "model3.fit(ds2.batch(32), epochs = 10)"
      ],
      "execution_count": 14,
      "outputs": [
        {
          "output_type": "stream",
          "text": [
            "Train for 167 steps\n",
            "Epoch 1/10\n",
            "167/167 [==============================] - 3777s 23s/step - loss: 0.0864\n",
            "Epoch 2/10\n",
            "167/167 [==============================] - 25s 152ms/step - loss: 0.0805\n",
            "Epoch 3/10\n",
            "167/167 [==============================] - 25s 153ms/step - loss: 0.0805\n",
            "Epoch 4/10\n",
            "167/167 [==============================] - 26s 153ms/step - loss: 0.0805\n",
            "Epoch 5/10\n",
            "167/167 [==============================] - 26s 154ms/step - loss: 0.0805\n",
            "Epoch 6/10\n",
            "167/167 [==============================] - 26s 157ms/step - loss: 0.0805\n",
            "Epoch 7/10\n",
            "167/167 [==============================] - 26s 153ms/step - loss: 0.0805\n",
            "Epoch 8/10\n",
            "167/167 [==============================] - 26s 153ms/step - loss: 0.0651\n",
            "Epoch 9/10\n",
            "167/167 [==============================] - 25s 153ms/step - loss: 0.0545\n",
            "Epoch 10/10\n",
            "167/167 [==============================] - 25s 151ms/step - loss: 0.0529\n"
          ],
          "name": "stdout"
        },
        {
          "output_type": "execute_result",
          "data": {
            "text/plain": [
              "<tensorflow.python.keras.callbacks.History at 0x7f9c50662198>"
            ]
          },
          "metadata": {
            "tags": []
          },
          "execution_count": 14
        }
      ]
    },
    {
      "cell_type": "code",
      "metadata": {
        "id": "bXKTlY3W9rHf",
        "colab_type": "code",
        "colab": {}
      },
      "source": [
        "test_x = []\n",
        "preds = []\n",
        "test_y = []\n",
        "for i,j in ds2.take(10):\n",
        "    test_x.append(i)\n",
        "    test_y.append(j)"
      ],
      "execution_count": 0,
      "outputs": []
    },
    {
      "cell_type": "code",
      "metadata": {
        "id": "d9On3_dnOvx6",
        "colab_type": "code",
        "colab": {}
      },
      "source": [
        "test_x = tf.reshape(test_x, [10,128,128,1])\n",
        "preds = model3.predict(test_x)"
      ],
      "execution_count": 0,
      "outputs": []
    },
    {
      "cell_type": "code",
      "metadata": {
        "id": "CmoL7E2LSwAj",
        "colab_type": "code",
        "outputId": "f9cdf2ca-7df2-4b85-f2e4-0883092b40b8",
        "colab": {
          "base_uri": "https://localhost:8080/",
          "height": 287
        }
      },
      "source": [
        "plt.imshow(test_x[7].numpy().reshape(128,128), cmap=\"gray\")"
      ],
      "execution_count": 18,
      "outputs": [
        {
          "output_type": "execute_result",
          "data": {
            "text/plain": [
              "<matplotlib.image.AxesImage at 0x7f9c501b8470>"
            ]
          },
          "metadata": {
            "tags": []
          },
          "execution_count": 18
        },
        {
          "output_type": "display_data",
          "data": {
            "image/png": "[encoded data removed]",
            "text/plain": [
              "<Figure size 432x288 with 1 Axes>"
            ]
          },
          "metadata": {
            "tags": []
          }
        }
      ]
    },
    {
      "cell_type": "code",
      "metadata": {
        "id": "mehgSQT-S75i",
        "colab_type": "code",
        "outputId": "7d639001-ef89-4b49-a56e-bb58096eb00b",
        "colab": {
          "base_uri": "https://localhost:8080/",
          "height": 287
        }
      },
      "source": [
        "plt.imshow(test_y[7].numpy().reshape(128, 128), cmap=\"gray\")"
      ],
      "execution_count": 19,
      "outputs": [
        {
          "output_type": "execute_result",
          "data": {
            "text/plain": [
              "<matplotlib.image.AxesImage at 0x7f9c500ca908>"
            ]
          },
          "metadata": {
            "tags": []
          },
          "execution_count": 19
        },
        {
          "output_type": "display_data",
          "data": {
            "image/png": "[encoded data removed]",
            "text/plain": [
              "<Figure size 432x288 with 1 Axes>"
            ]
          },
          "metadata": {
            "tags": []
          }
        }
      ]
    },
    {
      "cell_type": "code",
      "metadata": {
        "id": "j325fvCaTY4_",
        "colab_type": "code",
        "outputId": "ef0adc8d-e887-4671-8efd-310589fefa48",
        "colab": {
          "base_uri": "https://localhost:8080/",
          "height": 287
        }
      },
      "source": [
        "plt.imshow(preds[7].reshape(128,128),cmap=\"gray\")"
      ],
      "execution_count": 20,
      "outputs": [
        {
          "output_type": "execute_result",
          "data": {
            "text/plain": [
              "<matplotlib.image.AxesImage at 0x7f9c500aeb38>"
            ]
          },
          "metadata": {
            "tags": []
          },
          "execution_count": 20
        },
        {
          "output_type": "display_data",
          "data": {
            "image/png": "[encoded data removed]",
            "text/plain": [
              "<Figure size 432x288 with 1 Axes>"
            ]
          },
          "metadata": {
            "tags": []
          }
        }
      ]
    },
    {
      "cell_type": "code",
      "metadata": {
        "id": "Abd1B0jxUBBC",
        "colab_type": "code",
        "colab": {}
      },
      "source": [
        "pp = tf.math.round(preds[7])"
      ],
      "execution_count": 0,
      "outputs": []
    },
    {
      "cell_type": "code",
      "metadata": {
        "id": "vmDuYpuzUHwY",
        "colab_type": "code",
        "outputId": "826d657d-68db-4feb-d4a0-08157c5f9d46",
        "colab": {
          "base_uri": "https://localhost:8080/",
          "height": 287
        }
      },
      "source": [
        "plt.imshow(pp.numpy().reshape(128,128),cmap=\"gray\")"
      ],
      "execution_count": 22,
      "outputs": [
        {
          "output_type": "execute_result",
          "data": {
            "text/plain": [
              "<matplotlib.image.AxesImage at 0x7f9c380f8908>"
            ]
          },
          "metadata": {
            "tags": []
          },
          "execution_count": 22
        },
        {
          "output_type": "display_data",
          "data": {
            "image/png": "[encoded data removed]",
            "text/plain": [
              "<Figure size 432x288 with 1 Axes>"
            ]
          },
          "metadata": {
            "tags": []
          }
        }
      ]
    },
    {
      "cell_type": "code",
      "metadata": {
        "id": "HKVdNKgUUWDN",
        "colab_type": "code",
        "colab": {}
      },
      "source": [
        ""
      ],
      "execution_count": 0,
      "outputs": []
    }
  ]
}