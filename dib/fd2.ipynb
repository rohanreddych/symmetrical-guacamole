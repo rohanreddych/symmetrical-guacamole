{
  "nbformat": 4,
  "nbformat_minor": 0,
  "metadata": {
    "colab": {
      "name": "Untitled11.ipynb",
      "provenance": [],
      "collapsed_sections": [],
      "authorship_tag": "ABX9TyPoru/pesEQ7CNZHljx0PWX",
      "include_colab_link": true
    },
    "kernelspec": {
      "name": "python3",
      "display_name": "Python 3"
    },
    "accelerator": "GPU"
  },
  "cells": [
    {
      "cell_type": "markdown",
      "metadata": {
        "id": "view-in-github",
        "colab_type": "text"
      },
      "source": [
        "<a href=\"https://colab.research.google.com/github/rohanreddych/symmetrical-guacamole/blob/master/dib/fd2.ipynb\" target=\"_parent\"><img src=\"https://colab.research.google.com/assets/colab-badge.svg\" alt=\"Open In Colab\"/></a>"
      ]
    },
    {
      "cell_type": "code",
      "metadata": {
        "id": "-6f1xHBhIzOx",
        "colab_type": "code",
        "outputId": "62a80e55-03c6-4ce9-fc92-fbc2aae6e2e5",
        "colab": {
          "base_uri": "https://localhost:8080/",
          "height": 36
        }
      },
      "source": [
        "%tensorflow_version 2.x"
      ],
      "execution_count": 0,
      "outputs": [
        {
          "output_type": "stream",
          "text": [
            "TensorFlow 2.x selected.\n"
          ],
          "name": "stdout"
        }
      ]
    },
    {
      "cell_type": "code",
      "metadata": {
        "id": "uQPKylV53rET",
        "colab_type": "code",
        "colab": {}
      },
      "source": [
        "import cv2\n",
        "import os\n",
        "import numpy as np"
      ],
      "execution_count": 0,
      "outputs": []
    },
    {
      "cell_type": "code",
      "metadata": {
        "id": "LmmzcliM4RrU",
        "colab_type": "code",
        "outputId": "f1580b5a-092d-42b6-a751-c7616d302f10",
        "colab": {
          "base_uri": "https://localhost:8080/",
          "height": 36
        }
      },
      "source": [
        "from google.colab import drive\n",
        "drive.mount('/content/drive')"
      ],
      "execution_count": 0,
      "outputs": [
        {
          "output_type": "stream",
          "text": [
            "Drive already mounted at /content/drive; to attempt to forcibly remount, call drive.mount(\"/content/drive\", force_remount=True).\n"
          ],
          "name": "stdout"
        }
      ]
    },
    {
      "cell_type": "code",
      "metadata": {
        "id": "CGmn7uBuWd2l",
        "colab_type": "code",
        "colab": {}
      },
      "source": [
        "import tensorflow as tf\n",
        "from tensorflow.keras import layers\n",
        "import matplotlib.pyplot as plt"
      ],
      "execution_count": 0,
      "outputs": []
    },
    {
      "cell_type": "code",
      "metadata": {
        "id": "M8y2Cip5Wgl5",
        "colab_type": "code",
        "colab": {}
      },
      "source": [
        "f=open(\"/content/drive/My Drive/names.txt\",'r')\n",
        "#f = open('', \"r\")\n",
        "\n"
      ],
      "execution_count": 0,
      "outputs": []
    },
    {
      "cell_type": "code",
      "metadata": {
        "id": "L7h0Z5dPX4P-",
        "colab_type": "code",
        "colab": {}
      },
      "source": [
        "names = f.readlines()"
      ],
      "execution_count": 0,
      "outputs": []
    },
    {
      "cell_type": "code",
      "metadata": {
        "id": "0p2HyqeZX7Mr",
        "colab_type": "code",
        "colab": {}
      },
      "source": [
        "def rstrip(x):\n",
        "    x = x.rstrip(\" \\n\")\n",
        "    return x"
      ],
      "execution_count": 0,
      "outputs": []
    },
    {
      "cell_type": "code",
      "metadata": {
        "id": "t-iQRee5X_v0",
        "colab_type": "code",
        "colab": {}
      },
      "source": [
        "names = list(map(rstrip, names))"
      ],
      "execution_count": 0,
      "outputs": []
    },
    {
      "cell_type": "code",
      "metadata": {
        "id": "Lq21kdM_YOFC",
        "colab_type": "code",
        "colab": {}
      },
      "source": [
        "bin_dict = \"/content/drive/My Drive/full_data/bin/\"\n",
        "gray_dict = \"/content/drive/My Drive/full_data/gray/\""
      ],
      "execution_count": 0,
      "outputs": []
    },
    {
      "cell_type": "code",
      "metadata": {
        "id": "dHehFZyrYVsy",
        "colab_type": "code",
        "colab": {}
      },
      "source": [
        "X = [gray_dict + i for i in names]\n",
        "y = [bin_dict + i for i in names]"
      ],
      "execution_count": 0,
      "outputs": []
    },
    {
      "cell_type": "code",
      "metadata": {
        "id": "t2uyAgY6YZqv",
        "colab_type": "code",
        "outputId": "63fce6c0-d5dd-426f-e779-465db9b0daef",
        "colab": {
          "base_uri": "https://localhost:8080/",
          "height": 36
        }
      },
      "source": [
        "print(len(X), len(y))\n"
      ],
      "execution_count": 0,
      "outputs": [
        {
          "output_type": "stream",
          "text": [
            "43264 43264\n"
          ],
          "name": "stdout"
        }
      ]
    },
    {
      "cell_type": "code",
      "metadata": {
        "id": "xytFPuyWYbbA",
        "colab_type": "code",
        "colab": {}
      },
      "source": [
        "def pp(img, lbl):\n",
        "    img = tf.io.read_file(img)\n",
        "    img = tf.io.decode_png(img, channels=1)\n",
        "    img = tf.image.resize(img, [104,104])\n",
        "    img = img / 255.\n",
        "    lbl = tf.io.read_file(lbl)\n",
        "    lbl = tf.image.decode_png(lbl, channels=1)\n",
        "    lbl = tf.image.resize(lbl, [104,104])\n",
        "    lbl = lbl / 255.\n",
        "    lbl = tf.round(lbl)\n",
        "    return img, lbl\n"
      ],
      "execution_count": 0,
      "outputs": []
    },
    {
      "cell_type": "code",
      "metadata": {
        "id": "E6eOBB1UYcT3",
        "colab_type": "code",
        "colab": {}
      },
      "source": [
        "ds = tf.data.Dataset.from_tensor_slices((X,y))"
      ],
      "execution_count": 0,
      "outputs": []
    },
    {
      "cell_type": "code",
      "metadata": {
        "id": "EMwLXLpZXyAE",
        "colab_type": "code",
        "colab": {}
      },
      "source": [
        "model = tf.keras.models.Sequential([layers.InputLayer(input_shape=(104,104,1)),\n",
        "                                    layers.Conv2D(64, (3,3), activation=\"relu\", padding=\"same\"),\n",
        "                                    layers.MaxPool2D((2,2), padding=\"same\"),\n",
        "                                    layers.Conv2D(32, (3,3), activation=\"relu\", padding=\"same\"),\n",
        "                                    layers.MaxPool2D((2,2), padding=\"same\"),\n",
        "                                    layers.Conv2D(16, (3,3), activation=\"relu\", padding=\"same\"),\n",
        "                                    layers.MaxPool2D((2,2), padding=\"same\"),\n",
        "                                    layers.Conv2D(16, (3,3), activation=\"relu\", padding=\"same\"),\n",
        "                                    layers.UpSampling2D((2,2)),\n",
        "                                    layers.Conv2D(32, (3,3), activation=\"relu\", padding=\"same\"),\n",
        "                                    layers.UpSampling2D((2,2)),\n",
        "                                    layers.Conv2D(64, (3,3), activation=\"relu\", padding=\"same\"),\n",
        "                                    layers.UpSampling2D((2,2)),\n",
        "                                    layers.Conv2D(1, (3,3), padding=\"same\"),\n",
        "                                    \n",
        "])"
      ],
      "execution_count": 0,
      "outputs": []
    },
    {
      "cell_type": "code",
      "metadata": {
        "id": "MM42xyAXYJ8h",
        "colab_type": "code",
        "outputId": "4b6f6862-8a7f-4a10-d1f2-ae1cbbe71722",
        "colab": {
          "base_uri": "https://localhost:8080/",
          "height": 663
        }
      },
      "source": [
        "model.summary()"
      ],
      "execution_count": 0,
      "outputs": [
        {
          "output_type": "stream",
          "text": [
            "Model: \"sequential\"\n",
            "_________________________________________________________________\n",
            "Layer (type)                 Output Shape              Param #   \n",
            "=================================================================\n",
            "conv2d (Conv2D)              (None, 104, 104, 64)      640       \n",
            "_________________________________________________________________\n",
            "max_pooling2d (MaxPooling2D) (None, 52, 52, 64)        0         \n",
            "_________________________________________________________________\n",
            "conv2d_1 (Conv2D)            (None, 52, 52, 32)        18464     \n",
            "_________________________________________________________________\n",
            "max_pooling2d_1 (MaxPooling2 (None, 26, 26, 32)        0         \n",
            "_________________________________________________________________\n",
            "conv2d_2 (Conv2D)            (None, 26, 26, 16)        4624      \n",
            "_________________________________________________________________\n",
            "max_pooling2d_2 (MaxPooling2 (None, 13, 13, 16)        0         \n",
            "_________________________________________________________________\n",
            "conv2d_3 (Conv2D)            (None, 13, 13, 16)        2320      \n",
            "_________________________________________________________________\n",
            "up_sampling2d (UpSampling2D) (None, 26, 26, 16)        0         \n",
            "_________________________________________________________________\n",
            "conv2d_4 (Conv2D)            (None, 26, 26, 32)        4640      \n",
            "_________________________________________________________________\n",
            "up_sampling2d_1 (UpSampling2 (None, 52, 52, 32)        0         \n",
            "_________________________________________________________________\n",
            "conv2d_5 (Conv2D)            (None, 52, 52, 64)        18496     \n",
            "_________________________________________________________________\n",
            "up_sampling2d_2 (UpSampling2 (None, 104, 104, 64)      0         \n",
            "_________________________________________________________________\n",
            "conv2d_6 (Conv2D)            (None, 104, 104, 1)       577       \n",
            "=================================================================\n",
            "Total params: 49,761\n",
            "Trainable params: 49,761\n",
            "Non-trainable params: 0\n",
            "_________________________________________________________________\n"
          ],
          "name": "stdout"
        }
      ]
    },
    {
      "cell_type": "code",
      "metadata": {
        "id": "lzqcATrkYLqY",
        "colab_type": "code",
        "colab": {}
      },
      "source": [
        "model.compile(loss=\"mse\", optimizer=\"adam\")"
      ],
      "execution_count": 0,
      "outputs": []
    },
    {
      "cell_type": "code",
      "metadata": {
        "id": "TbD5QSulCC3c",
        "colab_type": "code",
        "colab": {}
      },
      "source": [
        "ds2 = ds.map(pp)"
      ],
      "execution_count": 0,
      "outputs": []
    },
    {
      "cell_type": "code",
      "metadata": {
        "id": "kGAyJe06dTU0",
        "colab_type": "code",
        "colab": {}
      },
      "source": [
        "gray_l = []\n",
        "bin_l = []\n",
        "for i , j in ds2.take(100):\n",
        "    gray_l.append(i)\n",
        "    bin_l.append(j)"
      ],
      "execution_count": 0,
      "outputs": []
    },
    {
      "cell_type": "code",
      "metadata": {
        "id": "4et580uxg4tV",
        "colab_type": "code",
        "outputId": "ec1df1e2-9545-4667-cf0d-b9369d9af5b1",
        "colab": {
          "base_uri": "https://localhost:8080/",
          "height": 287
        }
      },
      "source": [
        "plt.imshow(bin_l[69].numpy().reshape(104,104), cmap=\"gray\")\n",
        "#print(bin_l[4].numpy())"
      ],
      "execution_count": 0,
      "outputs": [
        {
          "output_type": "execute_result",
          "data": {
            "text/plain": [
              "<matplotlib.image.AxesImage at 0x7f6806151898>"
            ]
          },
          "metadata": {
            "tags": []
          },
          "execution_count": 53
        },
        {
          "output_type": "display_data",
          "data": {
            "image/png": "[encoded data removed]",
            "text/plain": [
              "<Figure size 432x288 with 1 Axes>"
            ]
          },
          "metadata": {
            "tags": []
          }
        }
      ]
    },
    {
      "cell_type": "code",
      "metadata": {
        "id": "QUk0YZa-kUnr",
        "colab_type": "code",
        "outputId": "551bff3f-1bb4-4d01-e32e-e4aa89721bd8",
        "colab": {
          "base_uri": "https://localhost:8080/",
          "height": 287
        }
      },
      "source": [
        "plt.imshow(gray_l[69].numpy().reshape(104,104), cmap=\"gray\")"
      ],
      "execution_count": 0,
      "outputs": [
        {
          "output_type": "execute_result",
          "data": {
            "text/plain": [
              "<matplotlib.image.AxesImage at 0x7f67ecf7cba8>"
            ]
          },
          "metadata": {
            "tags": []
          },
          "execution_count": 54
        },
        {
          "output_type": "display_data",
          "data": {
            "image/png": "[encoded data removed]",
            "text/plain": [
              "<Figure size 432x288 with 1 Axes>"
            ]
          },
          "metadata": {
            "tags": []
          }
        }
      ]
    },
    {
      "cell_type": "code",
      "metadata": {
        "id": "bRSJGPsQkgAp",
        "colab_type": "code",
        "colab": {}
      },
      "source": [
        "ds3 = ds2.batch(32)"
      ],
      "execution_count": 0,
      "outputs": []
    },
    {
      "cell_type": "code",
      "metadata": {
        "id": "ONjzlwt3P7H1",
        "colab_type": "code",
        "outputId": "02c2f162-2d72-41fc-9e8c-8c38aeb7036a",
        "colab": {
          "base_uri": "https://localhost:8080/",
          "height": 399
        }
      },
      "source": [
        "model.fit(ds3, epochs=10)"
      ],
      "execution_count": 0,
      "outputs": [
        {
          "output_type": "stream",
          "text": [
            "Train for 1352 steps\n",
            "Epoch 1/10\n",
            "1352/1352 [==============================] - 14406s 11s/step - loss: 0.0390\n",
            "Epoch 2/10\n",
            "1352/1352 [==============================] - 397s 293ms/step - loss: 0.0222\n",
            "Epoch 3/10\n",
            "1352/1352 [==============================] - 396s 293ms/step - loss: 0.0192\n",
            "Epoch 4/10\n",
            "1352/1352 [==============================] - 398s 295ms/step - loss: 0.0178\n",
            "Epoch 5/10\n",
            "1352/1352 [==============================] - 400s 296ms/step - loss: 0.0168\n",
            "Epoch 6/10\n",
            "1352/1352 [==============================] - 404s 299ms/step - loss: 0.0161\n",
            "Epoch 7/10\n",
            "1352/1352 [==============================] - 398s 294ms/step - loss: 0.0157\n",
            "Epoch 8/10\n",
            "1352/1352 [==============================] - 398s 295ms/step - loss: 0.0153\n",
            "Epoch 9/10\n",
            "1352/1352 [==============================] - 399s 295ms/step - loss: 0.0150\n",
            "Epoch 10/10\n",
            "1352/1352 [==============================] - 398s 294ms/step - loss: 0.0147\n"
          ],
          "name": "stdout"
        },
        {
          "output_type": "execute_result",
          "data": {
            "text/plain": [
              "<tensorflow.python.keras.callbacks.History at 0x7f68061073c8>"
            ]
          },
          "metadata": {
            "tags": []
          },
          "execution_count": 58
        }
      ]
    },
    {
      "cell_type": "code",
      "metadata": {
        "id": "uEBDOgoSbVCC",
        "colab_type": "code",
        "colab": {}
      },
      "source": [
        "model.save(\"weights.h5\")"
      ],
      "execution_count": 0,
      "outputs": []
    },
    {
      "cell_type": "code",
      "metadata": {
        "id": "K2rqPqPcqh2u",
        "colab_type": "code",
        "colab": {}
      },
      "source": [
        "model.save(\"/content/drive/My Drive/weights.h5\")"
      ],
      "execution_count": 0,
      "outputs": []
    },
    {
      "cell_type": "code",
      "metadata": {
        "id": "iJUX31WFqqcS",
        "colab_type": "code",
        "colab": {}
      },
      "source": [
        "d = model.predict(np.array(gray_l))"
      ],
      "execution_count": 0,
      "outputs": []
    },
    {
      "cell_type": "code",
      "metadata": {
        "id": "tAtpZOycNS2v",
        "colab_type": "code",
        "outputId": "b289d0ef-f590-42bc-d0e6-2747bc47b18a",
        "colab": {
          "base_uri": "https://localhost:8080/",
          "height": 285
        }
      },
      "source": [
        "plt.imshow(d[69].reshape(104,104), cmap=\"gray\")"
      ],
      "execution_count": 72,
      "outputs": [
        {
          "output_type": "execute_result",
          "data": {
            "text/plain": [
              "<matplotlib.image.AxesImage at 0x7f67ea1d0320>"
            ]
          },
          "metadata": {
            "tags": []
          },
          "execution_count": 72
        },
        {
          "output_type": "display_data",
          "data": {
            "image/png": "[encoded data removed]",
            "text/plain": [
              "<Figure size 432x288 with 1 Axes>"
            ]
          },
          "metadata": {
            "tags": []
          }
        }
      ]
    },
    {
      "cell_type": "code",
      "metadata": {
        "id": "cT_-TJRsr9X6",
        "colab_type": "code",
        "colab": {}
      },
      "source": [
        ""
      ],
      "execution_count": 0,
      "outputs": []
    }
  ]
}